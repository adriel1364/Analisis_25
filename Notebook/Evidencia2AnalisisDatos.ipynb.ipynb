{
  "cells": [
    {
      "cell_type": "markdown",
      "metadata": {
        "id": "wJ08LuqLHleY"
      },
      "source": [
        "## Análisis del Rendimiento Académico Estudiantil\n",
        "\n",
        "\n",
        "\n",
        "### Objetivo del análisis\n",
        "\n",
        "Este proyecto tiene como objetivo analizar distintos factores asociados al rendimiento académico de estudiantes universitarios. Se exploran variables sociodemográficas, hábitos de estudio, salud mental, acceso a recursos y desempeño en general, con el fin de identificar patrones o relaciones útiles para la toma de decisiones educativas.\n",
        "\n",
        "### Integrantes del equipo\n",
        "\n",
        "* Melania Ligorria\n",
        "* Miguel Rojas\n",
        "* Federico Córdoba\n",
        "* Adriel Delosanto\n",
        "* Florencia Andrada\n",
        "* Guadalupe Mendoza\n",
        "* Noelia Soto\n",
        "* Liliana Elizabet Lamas\n",
        "\n",
        "### Link al reporsitorio GITHUB del equipo\n",
        "\n",
        "[GitHub](https://github.com//adriel1364/Analisis_25)\n"
      ]
    },
    {
      "cell_type": "markdown",
      "metadata": {
        "id": "8RfHPGQaH1NB"
      },
      "source": [
        "## IMPORTACION DE LOS DATOS\n"
      ]
    },
    {
      "cell_type": "markdown",
      "metadata": {
        "id": "dVNM93uYlfvl"
      },
      "source": [
        "Es importante tener instaladas las librerias de Numpy y Pandas.\n",
        "La funcion read_csv de Pandas es la que permite cargar el dataframe\n"
      ]
    },
    {
      "cell_type": "code",
      "execution_count": 1,
      "metadata": {
        "id": "CLaQMxbclkTM"
      },
      "outputs": [],
      "source": [
        "import pandas as pd\n",
        "import numpy as np\n"
      ]
    },
    {
      "cell_type": "markdown",
      "metadata": {
        "id": "ybNTDVSnh7cq"
      },
      "source": [
        "Integrar Google Drive con Colab para acceder y leer el archivo CSV almacenado en la nube."
      ]
    },
    {
      "cell_type": "code",
      "execution_count": 3,
      "metadata": {
        "colab": {
          "base_uri": "https://localhost:8080/"
        },
        "id": "0Qu-qbyShxqq",
        "outputId": "1a08dc57-bc65-4083-f1e9-80b3c8415887"
      },
      "outputs": [
        {
          "output_type": "stream",
          "name": "stdout",
          "text": [
            "Mounted at /content/drive\n"
          ]
        }
      ],
      "source": [
        "# Montar Google Drive\n",
        "from google.colab import drive\n",
        "drive.mount('/content/drive')\n",
        "\n",
        "# Leer el archivo CSV (desde Drive)\n",
        "df = pd.read_csv('/content/drive/My Drive/AnalisisdeDatosISPC2025/DataSet_Rendimiento_Estudiantes.csv')\n"
      ]
    },
    {
      "cell_type": "markdown",
      "metadata": {
        "id": "cJG9mlO-k_cX"
      },
      "source": [
        "## Visualización de las primeras 10 filas\n",
        "\n",
        "Incorporamos este aspecto porque mejora la visualización al presentar los datos con la estructura original del DataFrame (filas y columnas), lo que permite desplazarse de manera fluida mediante barras de scroll horizontales y verticales."
      ]
    },
    {
      "cell_type": "code",
      "execution_count": 4,
      "metadata": {
        "colab": {
          "base_uri": "https://localhost:8080/",
          "height": 713
        },
        "id": "yOE3E4PHlET7",
        "outputId": "f8250148-8268-4529-9a16-90213518e6aa"
      },
      "outputs": [
        {
          "output_type": "execute_result",
          "data": {
            "text/plain": [
              "                 student_ulid first_name    last_name    student_id  \\\n",
              "0  01JSJW8GB9GFDGKT3R63J7NWSM      Reeba    Francesch  2.296751e+08   \n",
              "1  01JSJW8GBCDQ03EJ7XTYD2ATTZ      Meade  Fedorchenko  9.423870e+09   \n",
              "2  01JSJW8GBEA636S3CRYQYFVM54       Elle        Slimm  5.731077e+09   \n",
              "3  01JSJW8GBF2TK2F4EEDCH3HTBY     Selena       Hugett  3.618530e+08   \n",
              "4  01JSJW8GBH5K7RE7CQW5TJRR50    Rozalin        Barks  9.074949e+09   \n",
              "5  01JSJW8GBJXN0E056TY0Q51MEQ   Richmond          NaN  3.161899e+09   \n",
              "6  01JSJW8GBMG99WH1B8RMTRK8NB     Hester       Darrel  4.283919e+09   \n",
              "7  01JSJW8GBPMFJEY0F1HAMPCQZ5    Virgina        Fitch  8.669234e+09   \n",
              "8  01JSJW8GBQ22DPE7XKE29M5EHD     Giusto        Minci  9.685291e+09   \n",
              "9  01JSJW8GBRSZ3JVG361E7V9T7J       Ruby        Dulen  2.469802e+09   \n",
              "\n",
              "        gender   age                   email              address   \\\n",
              "0  Genderqueer  58.0   rfrancesch0@state.gov        5 Coleman Hill   \n",
              "1         Male  54.0  mfedorchenko1@dell.com   75159 Mcbride Place   \n",
              "2       Female  25.0     eslimm2@gizmodo.com                   NaN   \n",
              "3       Female  86.0   shugett3@edublogs.org     3213 Heath Circle   \n",
              "4       Female  98.0          rbarks4@360.cn    86 Holmberg Street   \n",
              "5         Male  60.0          rcovert5@51.la   6676 Daystar Avenue   \n",
              "6       Female  81.0   hdarrel6@buzzfeed.com     0 Superior Circle   \n",
              "7       Female  57.0        vfitch7@yelp.com  7885 Ridge Oak Point   \n",
              "8   Polygender  75.0        gminci8@about.me      6773 Debra Trail   \n",
              "9         Male  93.0       rdulen9@hexun.com                   NaN   \n",
              "\n",
              "           phone           major   gpa  attendance_rate mental_health_status  \\\n",
              "0  (161) 8707438    Architecture  2.80             73.0                 Good   \n",
              "1  (937) 5176332             Law  1.72             63.0                 Good   \n",
              "2  (464) 6044481  Administration  0.76              NaN                  NaN   \n",
              "3  (499) 4575315     Engineering  1.52             75.0                  Bad   \n",
              "4  (964) 2462771        Medicine  3.25             75.0                  Bad   \n",
              "5  (647) 4899125         Student  3.84             73.0                 Good   \n",
              "6  (542) 7605201  Administration  1.00              NaN                  Bad   \n",
              "7            NaN      Psychology  0.70             61.0                  Bad   \n",
              "8            NaN         Student  2.72             71.0                 Good   \n",
              "9  (968) 5818592             Law  1.01             87.0              Average   \n",
              "\n",
              "   study_hours_per_week  extracurricular_participation scholarship   \\\n",
              "0                   22.0                          True        False   \n",
              "1                   30.0                          True        False   \n",
              "2                   30.0                          True         True   \n",
              "3                    NaN                          True         True   \n",
              "4                    0.0                         False         True   \n",
              "5                   14.0                          True        False   \n",
              "6                    5.0                         False        False   \n",
              "7                    NaN                         False        False   \n",
              "8                    NaN                          True        False   \n",
              "9                    9.0                         False        False   \n",
              "\n",
              "  internet_access   sleep_hours_per_night  \n",
              "0              NaN                    NaN  \n",
              "1             True                    5.0  \n",
              "2            False                   12.0  \n",
              "3             True                    9.0  \n",
              "4             True                    3.0  \n",
              "5              NaN                    3.0  \n",
              "6            False                   11.0  \n",
              "7              NaN                    NaN  \n",
              "8            False                    6.0  \n",
              "9             True                    6.0  "
            ],
            "text/html": [
              "\n",
              "  <div id=\"df-027176d9-526e-4065-a543-d63b7bb85802\" class=\"colab-df-container\">\n",
              "    <div>\n",
              "<style scoped>\n",
              "    .dataframe tbody tr th:only-of-type {\n",
              "        vertical-align: middle;\n",
              "    }\n",
              "\n",
              "    .dataframe tbody tr th {\n",
              "        vertical-align: top;\n",
              "    }\n",
              "\n",
              "    .dataframe thead th {\n",
              "        text-align: right;\n",
              "    }\n",
              "</style>\n",
              "<table border=\"1\" class=\"dataframe\">\n",
              "  <thead>\n",
              "    <tr style=\"text-align: right;\">\n",
              "      <th></th>\n",
              "      <th>student_ulid</th>\n",
              "      <th>first_name</th>\n",
              "      <th>last_name</th>\n",
              "      <th>student_id</th>\n",
              "      <th>gender</th>\n",
              "      <th>age</th>\n",
              "      <th>email</th>\n",
              "      <th>address</th>\n",
              "      <th>phone</th>\n",
              "      <th>major</th>\n",
              "      <th>gpa</th>\n",
              "      <th>attendance_rate</th>\n",
              "      <th>mental_health_status</th>\n",
              "      <th>study_hours_per_week</th>\n",
              "      <th>extracurricular_participation</th>\n",
              "      <th>scholarship</th>\n",
              "      <th>internet_access</th>\n",
              "      <th>sleep_hours_per_night</th>\n",
              "    </tr>\n",
              "  </thead>\n",
              "  <tbody>\n",
              "    <tr>\n",
              "      <th>0</th>\n",
              "      <td>01JSJW8GB9GFDGKT3R63J7NWSM</td>\n",
              "      <td>Reeba</td>\n",
              "      <td>Francesch</td>\n",
              "      <td>2.296751e+08</td>\n",
              "      <td>Genderqueer</td>\n",
              "      <td>58.0</td>\n",
              "      <td>rfrancesch0@state.gov</td>\n",
              "      <td>5 Coleman Hill</td>\n",
              "      <td>(161) 8707438</td>\n",
              "      <td>Architecture</td>\n",
              "      <td>2.80</td>\n",
              "      <td>73.0</td>\n",
              "      <td>Good</td>\n",
              "      <td>22.0</td>\n",
              "      <td>True</td>\n",
              "      <td>False</td>\n",
              "      <td>NaN</td>\n",
              "      <td>NaN</td>\n",
              "    </tr>\n",
              "    <tr>\n",
              "      <th>1</th>\n",
              "      <td>01JSJW8GBCDQ03EJ7XTYD2ATTZ</td>\n",
              "      <td>Meade</td>\n",
              "      <td>Fedorchenko</td>\n",
              "      <td>9.423870e+09</td>\n",
              "      <td>Male</td>\n",
              "      <td>54.0</td>\n",
              "      <td>mfedorchenko1@dell.com</td>\n",
              "      <td>75159 Mcbride Place</td>\n",
              "      <td>(937) 5176332</td>\n",
              "      <td>Law</td>\n",
              "      <td>1.72</td>\n",
              "      <td>63.0</td>\n",
              "      <td>Good</td>\n",
              "      <td>30.0</td>\n",
              "      <td>True</td>\n",
              "      <td>False</td>\n",
              "      <td>True</td>\n",
              "      <td>5.0</td>\n",
              "    </tr>\n",
              "    <tr>\n",
              "      <th>2</th>\n",
              "      <td>01JSJW8GBEA636S3CRYQYFVM54</td>\n",
              "      <td>Elle</td>\n",
              "      <td>Slimm</td>\n",
              "      <td>5.731077e+09</td>\n",
              "      <td>Female</td>\n",
              "      <td>25.0</td>\n",
              "      <td>eslimm2@gizmodo.com</td>\n",
              "      <td>NaN</td>\n",
              "      <td>(464) 6044481</td>\n",
              "      <td>Administration</td>\n",
              "      <td>0.76</td>\n",
              "      <td>NaN</td>\n",
              "      <td>NaN</td>\n",
              "      <td>30.0</td>\n",
              "      <td>True</td>\n",
              "      <td>True</td>\n",
              "      <td>False</td>\n",
              "      <td>12.0</td>\n",
              "    </tr>\n",
              "    <tr>\n",
              "      <th>3</th>\n",
              "      <td>01JSJW8GBF2TK2F4EEDCH3HTBY</td>\n",
              "      <td>Selena</td>\n",
              "      <td>Hugett</td>\n",
              "      <td>3.618530e+08</td>\n",
              "      <td>Female</td>\n",
              "      <td>86.0</td>\n",
              "      <td>shugett3@edublogs.org</td>\n",
              "      <td>3213 Heath Circle</td>\n",
              "      <td>(499) 4575315</td>\n",
              "      <td>Engineering</td>\n",
              "      <td>1.52</td>\n",
              "      <td>75.0</td>\n",
              "      <td>Bad</td>\n",
              "      <td>NaN</td>\n",
              "      <td>True</td>\n",
              "      <td>True</td>\n",
              "      <td>True</td>\n",
              "      <td>9.0</td>\n",
              "    </tr>\n",
              "    <tr>\n",
              "      <th>4</th>\n",
              "      <td>01JSJW8GBH5K7RE7CQW5TJRR50</td>\n",
              "      <td>Rozalin</td>\n",
              "      <td>Barks</td>\n",
              "      <td>9.074949e+09</td>\n",
              "      <td>Female</td>\n",
              "      <td>98.0</td>\n",
              "      <td>rbarks4@360.cn</td>\n",
              "      <td>86 Holmberg Street</td>\n",
              "      <td>(964) 2462771</td>\n",
              "      <td>Medicine</td>\n",
              "      <td>3.25</td>\n",
              "      <td>75.0</td>\n",
              "      <td>Bad</td>\n",
              "      <td>0.0</td>\n",
              "      <td>False</td>\n",
              "      <td>True</td>\n",
              "      <td>True</td>\n",
              "      <td>3.0</td>\n",
              "    </tr>\n",
              "    <tr>\n",
              "      <th>5</th>\n",
              "      <td>01JSJW8GBJXN0E056TY0Q51MEQ</td>\n",
              "      <td>Richmond</td>\n",
              "      <td>NaN</td>\n",
              "      <td>3.161899e+09</td>\n",
              "      <td>Male</td>\n",
              "      <td>60.0</td>\n",
              "      <td>rcovert5@51.la</td>\n",
              "      <td>6676 Daystar Avenue</td>\n",
              "      <td>(647) 4899125</td>\n",
              "      <td>Student</td>\n",
              "      <td>3.84</td>\n",
              "      <td>73.0</td>\n",
              "      <td>Good</td>\n",
              "      <td>14.0</td>\n",
              "      <td>True</td>\n",
              "      <td>False</td>\n",
              "      <td>NaN</td>\n",
              "      <td>3.0</td>\n",
              "    </tr>\n",
              "    <tr>\n",
              "      <th>6</th>\n",
              "      <td>01JSJW8GBMG99WH1B8RMTRK8NB</td>\n",
              "      <td>Hester</td>\n",
              "      <td>Darrel</td>\n",
              "      <td>4.283919e+09</td>\n",
              "      <td>Female</td>\n",
              "      <td>81.0</td>\n",
              "      <td>hdarrel6@buzzfeed.com</td>\n",
              "      <td>0 Superior Circle</td>\n",
              "      <td>(542) 7605201</td>\n",
              "      <td>Administration</td>\n",
              "      <td>1.00</td>\n",
              "      <td>NaN</td>\n",
              "      <td>Bad</td>\n",
              "      <td>5.0</td>\n",
              "      <td>False</td>\n",
              "      <td>False</td>\n",
              "      <td>False</td>\n",
              "      <td>11.0</td>\n",
              "    </tr>\n",
              "    <tr>\n",
              "      <th>7</th>\n",
              "      <td>01JSJW8GBPMFJEY0F1HAMPCQZ5</td>\n",
              "      <td>Virgina</td>\n",
              "      <td>Fitch</td>\n",
              "      <td>8.669234e+09</td>\n",
              "      <td>Female</td>\n",
              "      <td>57.0</td>\n",
              "      <td>vfitch7@yelp.com</td>\n",
              "      <td>7885 Ridge Oak Point</td>\n",
              "      <td>NaN</td>\n",
              "      <td>Psychology</td>\n",
              "      <td>0.70</td>\n",
              "      <td>61.0</td>\n",
              "      <td>Bad</td>\n",
              "      <td>NaN</td>\n",
              "      <td>False</td>\n",
              "      <td>False</td>\n",
              "      <td>NaN</td>\n",
              "      <td>NaN</td>\n",
              "    </tr>\n",
              "    <tr>\n",
              "      <th>8</th>\n",
              "      <td>01JSJW8GBQ22DPE7XKE29M5EHD</td>\n",
              "      <td>Giusto</td>\n",
              "      <td>Minci</td>\n",
              "      <td>9.685291e+09</td>\n",
              "      <td>Polygender</td>\n",
              "      <td>75.0</td>\n",
              "      <td>gminci8@about.me</td>\n",
              "      <td>6773 Debra Trail</td>\n",
              "      <td>NaN</td>\n",
              "      <td>Student</td>\n",
              "      <td>2.72</td>\n",
              "      <td>71.0</td>\n",
              "      <td>Good</td>\n",
              "      <td>NaN</td>\n",
              "      <td>True</td>\n",
              "      <td>False</td>\n",
              "      <td>False</td>\n",
              "      <td>6.0</td>\n",
              "    </tr>\n",
              "    <tr>\n",
              "      <th>9</th>\n",
              "      <td>01JSJW8GBRSZ3JVG361E7V9T7J</td>\n",
              "      <td>Ruby</td>\n",
              "      <td>Dulen</td>\n",
              "      <td>2.469802e+09</td>\n",
              "      <td>Male</td>\n",
              "      <td>93.0</td>\n",
              "      <td>rdulen9@hexun.com</td>\n",
              "      <td>NaN</td>\n",
              "      <td>(968) 5818592</td>\n",
              "      <td>Law</td>\n",
              "      <td>1.01</td>\n",
              "      <td>87.0</td>\n",
              "      <td>Average</td>\n",
              "      <td>9.0</td>\n",
              "      <td>False</td>\n",
              "      <td>False</td>\n",
              "      <td>True</td>\n",
              "      <td>6.0</td>\n",
              "    </tr>\n",
              "  </tbody>\n",
              "</table>\n",
              "</div>\n",
              "    <div class=\"colab-df-buttons\">\n",
              "\n",
              "  <div class=\"colab-df-container\">\n",
              "    <button class=\"colab-df-convert\" onclick=\"convertToInteractive('df-027176d9-526e-4065-a543-d63b7bb85802')\"\n",
              "            title=\"Convert this dataframe to an interactive table.\"\n",
              "            style=\"display:none;\">\n",
              "\n",
              "  <svg xmlns=\"http://www.w3.org/2000/svg\" height=\"24px\" viewBox=\"0 -960 960 960\">\n",
              "    <path d=\"M120-120v-720h720v720H120Zm60-500h600v-160H180v160Zm220 220h160v-160H400v160Zm0 220h160v-160H400v160ZM180-400h160v-160H180v160Zm440 0h160v-160H620v160ZM180-180h160v-160H180v160Zm440 0h160v-160H620v160Z\"/>\n",
              "  </svg>\n",
              "    </button>\n",
              "\n",
              "  <style>\n",
              "    .colab-df-container {\n",
              "      display:flex;\n",
              "      gap: 12px;\n",
              "    }\n",
              "\n",
              "    .colab-df-convert {\n",
              "      background-color: #E8F0FE;\n",
              "      border: none;\n",
              "      border-radius: 50%;\n",
              "      cursor: pointer;\n",
              "      display: none;\n",
              "      fill: #1967D2;\n",
              "      height: 32px;\n",
              "      padding: 0 0 0 0;\n",
              "      width: 32px;\n",
              "    }\n",
              "\n",
              "    .colab-df-convert:hover {\n",
              "      background-color: #E2EBFA;\n",
              "      box-shadow: 0px 1px 2px rgba(60, 64, 67, 0.3), 0px 1px 3px 1px rgba(60, 64, 67, 0.15);\n",
              "      fill: #174EA6;\n",
              "    }\n",
              "\n",
              "    .colab-df-buttons div {\n",
              "      margin-bottom: 4px;\n",
              "    }\n",
              "\n",
              "    [theme=dark] .colab-df-convert {\n",
              "      background-color: #3B4455;\n",
              "      fill: #D2E3FC;\n",
              "    }\n",
              "\n",
              "    [theme=dark] .colab-df-convert:hover {\n",
              "      background-color: #434B5C;\n",
              "      box-shadow: 0px 1px 3px 1px rgba(0, 0, 0, 0.15);\n",
              "      filter: drop-shadow(0px 1px 2px rgba(0, 0, 0, 0.3));\n",
              "      fill: #FFFFFF;\n",
              "    }\n",
              "  </style>\n",
              "\n",
              "    <script>\n",
              "      const buttonEl =\n",
              "        document.querySelector('#df-027176d9-526e-4065-a543-d63b7bb85802 button.colab-df-convert');\n",
              "      buttonEl.style.display =\n",
              "        google.colab.kernel.accessAllowed ? 'block' : 'none';\n",
              "\n",
              "      async function convertToInteractive(key) {\n",
              "        const element = document.querySelector('#df-027176d9-526e-4065-a543-d63b7bb85802');\n",
              "        const dataTable =\n",
              "          await google.colab.kernel.invokeFunction('convertToInteractive',\n",
              "                                                    [key], {});\n",
              "        if (!dataTable) return;\n",
              "\n",
              "        const docLinkHtml = 'Like what you see? Visit the ' +\n",
              "          '<a target=\"_blank\" href=https://colab.research.google.com/notebooks/data_table.ipynb>data table notebook</a>'\n",
              "          + ' to learn more about interactive tables.';\n",
              "        element.innerHTML = '';\n",
              "        dataTable['output_type'] = 'display_data';\n",
              "        await google.colab.output.renderOutput(dataTable, element);\n",
              "        const docLink = document.createElement('div');\n",
              "        docLink.innerHTML = docLinkHtml;\n",
              "        element.appendChild(docLink);\n",
              "      }\n",
              "    </script>\n",
              "  </div>\n",
              "\n",
              "\n",
              "    <div id=\"df-2ffc2ddd-8f2a-454e-b2c2-ec0ce2656fbc\">\n",
              "      <button class=\"colab-df-quickchart\" onclick=\"quickchart('df-2ffc2ddd-8f2a-454e-b2c2-ec0ce2656fbc')\"\n",
              "                title=\"Suggest charts\"\n",
              "                style=\"display:none;\">\n",
              "\n",
              "<svg xmlns=\"http://www.w3.org/2000/svg\" height=\"24px\"viewBox=\"0 0 24 24\"\n",
              "     width=\"24px\">\n",
              "    <g>\n",
              "        <path d=\"M19 3H5c-1.1 0-2 .9-2 2v14c0 1.1.9 2 2 2h14c1.1 0 2-.9 2-2V5c0-1.1-.9-2-2-2zM9 17H7v-7h2v7zm4 0h-2V7h2v10zm4 0h-2v-4h2v4z\"/>\n",
              "    </g>\n",
              "</svg>\n",
              "      </button>\n",
              "\n",
              "<style>\n",
              "  .colab-df-quickchart {\n",
              "      --bg-color: #E8F0FE;\n",
              "      --fill-color: #1967D2;\n",
              "      --hover-bg-color: #E2EBFA;\n",
              "      --hover-fill-color: #174EA6;\n",
              "      --disabled-fill-color: #AAA;\n",
              "      --disabled-bg-color: #DDD;\n",
              "  }\n",
              "\n",
              "  [theme=dark] .colab-df-quickchart {\n",
              "      --bg-color: #3B4455;\n",
              "      --fill-color: #D2E3FC;\n",
              "      --hover-bg-color: #434B5C;\n",
              "      --hover-fill-color: #FFFFFF;\n",
              "      --disabled-bg-color: #3B4455;\n",
              "      --disabled-fill-color: #666;\n",
              "  }\n",
              "\n",
              "  .colab-df-quickchart {\n",
              "    background-color: var(--bg-color);\n",
              "    border: none;\n",
              "    border-radius: 50%;\n",
              "    cursor: pointer;\n",
              "    display: none;\n",
              "    fill: var(--fill-color);\n",
              "    height: 32px;\n",
              "    padding: 0;\n",
              "    width: 32px;\n",
              "  }\n",
              "\n",
              "  .colab-df-quickchart:hover {\n",
              "    background-color: var(--hover-bg-color);\n",
              "    box-shadow: 0 1px 2px rgba(60, 64, 67, 0.3), 0 1px 3px 1px rgba(60, 64, 67, 0.15);\n",
              "    fill: var(--button-hover-fill-color);\n",
              "  }\n",
              "\n",
              "  .colab-df-quickchart-complete:disabled,\n",
              "  .colab-df-quickchart-complete:disabled:hover {\n",
              "    background-color: var(--disabled-bg-color);\n",
              "    fill: var(--disabled-fill-color);\n",
              "    box-shadow: none;\n",
              "  }\n",
              "\n",
              "  .colab-df-spinner {\n",
              "    border: 2px solid var(--fill-color);\n",
              "    border-color: transparent;\n",
              "    border-bottom-color: var(--fill-color);\n",
              "    animation:\n",
              "      spin 1s steps(1) infinite;\n",
              "  }\n",
              "\n",
              "  @keyframes spin {\n",
              "    0% {\n",
              "      border-color: transparent;\n",
              "      border-bottom-color: var(--fill-color);\n",
              "      border-left-color: var(--fill-color);\n",
              "    }\n",
              "    20% {\n",
              "      border-color: transparent;\n",
              "      border-left-color: var(--fill-color);\n",
              "      border-top-color: var(--fill-color);\n",
              "    }\n",
              "    30% {\n",
              "      border-color: transparent;\n",
              "      border-left-color: var(--fill-color);\n",
              "      border-top-color: var(--fill-color);\n",
              "      border-right-color: var(--fill-color);\n",
              "    }\n",
              "    40% {\n",
              "      border-color: transparent;\n",
              "      border-right-color: var(--fill-color);\n",
              "      border-top-color: var(--fill-color);\n",
              "    }\n",
              "    60% {\n",
              "      border-color: transparent;\n",
              "      border-right-color: var(--fill-color);\n",
              "    }\n",
              "    80% {\n",
              "      border-color: transparent;\n",
              "      border-right-color: var(--fill-color);\n",
              "      border-bottom-color: var(--fill-color);\n",
              "    }\n",
              "    90% {\n",
              "      border-color: transparent;\n",
              "      border-bottom-color: var(--fill-color);\n",
              "    }\n",
              "  }\n",
              "</style>\n",
              "\n",
              "      <script>\n",
              "        async function quickchart(key) {\n",
              "          const quickchartButtonEl =\n",
              "            document.querySelector('#' + key + ' button');\n",
              "          quickchartButtonEl.disabled = true;  // To prevent multiple clicks.\n",
              "          quickchartButtonEl.classList.add('colab-df-spinner');\n",
              "          try {\n",
              "            const charts = await google.colab.kernel.invokeFunction(\n",
              "                'suggestCharts', [key], {});\n",
              "          } catch (error) {\n",
              "            console.error('Error during call to suggestCharts:', error);\n",
              "          }\n",
              "          quickchartButtonEl.classList.remove('colab-df-spinner');\n",
              "          quickchartButtonEl.classList.add('colab-df-quickchart-complete');\n",
              "        }\n",
              "        (() => {\n",
              "          let quickchartButtonEl =\n",
              "            document.querySelector('#df-2ffc2ddd-8f2a-454e-b2c2-ec0ce2656fbc button');\n",
              "          quickchartButtonEl.style.display =\n",
              "            google.colab.kernel.accessAllowed ? 'block' : 'none';\n",
              "        })();\n",
              "      </script>\n",
              "    </div>\n",
              "\n",
              "    </div>\n",
              "  </div>\n"
            ],
            "application/vnd.google.colaboratory.intrinsic+json": {
              "type": "dataframe",
              "summary": "{\n  \"name\": \"df\",\n  \"rows\": 10,\n  \"fields\": [\n    {\n      \"column\": \"student_ulid\",\n      \"properties\": {\n        \"dtype\": \"string\",\n        \"num_unique_values\": 10,\n        \"samples\": [\n          \"01JSJW8GBQ22DPE7XKE29M5EHD\",\n          \"01JSJW8GBCDQ03EJ7XTYD2ATTZ\",\n          \"01JSJW8GBJXN0E056TY0Q51MEQ\"\n        ],\n        \"semantic_type\": \"\",\n        \"description\": \"\"\n      }\n    },\n    {\n      \"column\": \"first_name\",\n      \"properties\": {\n        \"dtype\": \"string\",\n        \"num_unique_values\": 10,\n        \"samples\": [\n          \"Giusto\",\n          \"Meade\",\n          \"Richmond\"\n        ],\n        \"semantic_type\": \"\",\n        \"description\": \"\"\n      }\n    },\n    {\n      \"column\": \"last_name\",\n      \"properties\": {\n        \"dtype\": \"string\",\n        \"num_unique_values\": 9,\n        \"samples\": [\n          \"Minci\",\n          \"Fedorchenko\",\n          \"Darrel\"\n        ],\n        \"semantic_type\": \"\",\n        \"description\": \"\"\n      }\n    },\n    {\n      \"column\": \"student_id\",\n      \"properties\": {\n        \"dtype\": \"number\",\n        \"std\": 3737668001.6077604,\n        \"min\": 229675123.0,\n        \"max\": 9685290962.0,\n        \"num_unique_values\": 10,\n        \"samples\": [\n          9685290962.0,\n          9423869955.0,\n          3161899121.0\n        ],\n        \"semantic_type\": \"\",\n        \"description\": \"\"\n      }\n    },\n    {\n      \"column\": \"gender\",\n      \"properties\": {\n        \"dtype\": \"category\",\n        \"num_unique_values\": 4,\n        \"samples\": [\n          \"Male\",\n          \"Polygender\",\n          \"Genderqueer\"\n        ],\n        \"semantic_type\": \"\",\n        \"description\": \"\"\n      }\n    },\n    {\n      \"column\": \"age\",\n      \"properties\": {\n        \"dtype\": \"number\",\n        \"std\": 22.09097352112648,\n        \"min\": 25.0,\n        \"max\": 98.0,\n        \"num_unique_values\": 10,\n        \"samples\": [\n          75.0,\n          54.0,\n          60.0\n        ],\n        \"semantic_type\": \"\",\n        \"description\": \"\"\n      }\n    },\n    {\n      \"column\": \"email\",\n      \"properties\": {\n        \"dtype\": \"string\",\n        \"num_unique_values\": 10,\n        \"samples\": [\n          \"gminci8@about.me\",\n          \"mfedorchenko1@dell.com\",\n          \"rcovert5@51.la\"\n        ],\n        \"semantic_type\": \"\",\n        \"description\": \"\"\n      }\n    },\n    {\n      \"column\": \"address \",\n      \"properties\": {\n        \"dtype\": \"string\",\n        \"num_unique_values\": 8,\n        \"samples\": [\n          \"75159 Mcbride Place\",\n          \"0 Superior Circle\",\n          \"5 Coleman Hill\"\n        ],\n        \"semantic_type\": \"\",\n        \"description\": \"\"\n      }\n    },\n    {\n      \"column\": \"phone\",\n      \"properties\": {\n        \"dtype\": \"string\",\n        \"num_unique_values\": 8,\n        \"samples\": [\n          \"(937) 5176332\",\n          \"(647) 4899125\",\n          \"(161) 8707438\"\n        ],\n        \"semantic_type\": \"\",\n        \"description\": \"\"\n      }\n    },\n    {\n      \"column\": \"major\",\n      \"properties\": {\n        \"dtype\": \"string\",\n        \"num_unique_values\": 7,\n        \"samples\": [\n          \"Architecture\",\n          \"Law\",\n          \"Student\"\n        ],\n        \"semantic_type\": \"\",\n        \"description\": \"\"\n      }\n    },\n    {\n      \"column\": \"gpa\",\n      \"properties\": {\n        \"dtype\": \"number\",\n        \"std\": 1.1341546043933635,\n        \"min\": 0.7,\n        \"max\": 3.84,\n        \"num_unique_values\": 10,\n        \"samples\": [\n          2.72,\n          1.72,\n          3.84\n        ],\n        \"semantic_type\": \"\",\n        \"description\": \"\"\n      }\n    },\n    {\n      \"column\": \"attendance_rate\",\n      \"properties\": {\n        \"dtype\": \"number\",\n        \"std\": 7.995534467974697,\n        \"min\": 61.0,\n        \"max\": 87.0,\n        \"num_unique_values\": 6,\n        \"samples\": [\n          73.0,\n          63.0,\n          87.0\n        ],\n        \"semantic_type\": \"\",\n        \"description\": \"\"\n      }\n    },\n    {\n      \"column\": \"mental_health_status\",\n      \"properties\": {\n        \"dtype\": \"category\",\n        \"num_unique_values\": 3,\n        \"samples\": [\n          \"Good\",\n          \"Bad\",\n          \"Average\"\n        ],\n        \"semantic_type\": \"\",\n        \"description\": \"\"\n      }\n    },\n    {\n      \"column\": \"study_hours_per_week \",\n      \"properties\": {\n        \"dtype\": \"number\",\n        \"std\": 11.95427797504985,\n        \"min\": 0.0,\n        \"max\": 30.0,\n        \"num_unique_values\": 6,\n        \"samples\": [\n          22.0,\n          30.0,\n          9.0\n        ],\n        \"semantic_type\": \"\",\n        \"description\": \"\"\n      }\n    },\n    {\n      \"column\": \"extracurricular_participation\",\n      \"properties\": {\n        \"dtype\": \"category\",\n        \"num_unique_values\": 2,\n        \"samples\": [\n          false,\n          true\n        ],\n        \"semantic_type\": \"\",\n        \"description\": \"\"\n      }\n    },\n    {\n      \"column\": \"scholarship \",\n      \"properties\": {\n        \"dtype\": \"category\",\n        \"num_unique_values\": 2,\n        \"samples\": [\n          true,\n          false\n        ],\n        \"semantic_type\": \"\",\n        \"description\": \"\"\n      }\n    },\n    {\n      \"column\": \"internet_access \",\n      \"properties\": {\n        \"dtype\": \"category\",\n        \"num_unique_values\": 2,\n        \"samples\": [\n          false,\n          true\n        ],\n        \"semantic_type\": \"\",\n        \"description\": \"\"\n      }\n    },\n    {\n      \"column\": \"sleep_hours_per_night\",\n      \"properties\": {\n        \"dtype\": \"number\",\n        \"std\": 3.440826312717007,\n        \"min\": 3.0,\n        \"max\": 12.0,\n        \"num_unique_values\": 6,\n        \"samples\": [\n          5.0,\n          12.0\n        ],\n        \"semantic_type\": \"\",\n        \"description\": \"\"\n      }\n    }\n  ]\n}"
            }
          },
          "metadata": {},
          "execution_count": 4
        }
      ],
      "source": [
        "df.head (10)"
      ]
    },
    {
      "cell_type": "markdown",
      "metadata": {
        "id": "sU8ugr4-KSav"
      },
      "source": [
        "# Descripcion General de DataSet"
      ]
    },
    {
      "cell_type": "markdown",
      "metadata": {
        "id": "j_iE3zzDKdYS"
      },
      "source": [
        "## Observaciones iniciales del dataset\n",
        "\n",
        "El dataset contiene 18 columnas y 1000 registros.\n",
        "Tipos de datos: 6 columnas numéricas, 12 categóricas.\n"
      ]
    },
    {
      "cell_type": "code",
      "execution_count": 5,
      "metadata": {
        "colab": {
          "base_uri": "https://localhost:8080/"
        },
        "id": "n4VPcUKYm82T",
        "outputId": "92996687-45f2-4f17-abfc-a7f8fd9d9811"
      },
      "outputs": [
        {
          "output_type": "execute_result",
          "data": {
            "text/plain": [
              "(1000, 18)"
            ]
          },
          "metadata": {},
          "execution_count": 5
        }
      ],
      "source": [
        "df.shape #cantidad de filas y columnas del df"
      ]
    },
    {
      "cell_type": "markdown",
      "metadata": {
        "id": "G3OncvzVg1-T"
      },
      "source": [
        "\n",
        "Las columnas incluyen:\n",
        "\n",
        "- Identificadores únicos (`student_ulid`, `student_id`)\n",
        "- Datos personales (`first_name`, `last_name`, `gender`, `age`, `email`, `address`, `phone`)\n",
        "- Variables académicas (`major`, `gpa`, `attendance_rate`, `study_hours_per_week`)\n",
        "- Información contextual o complementaria (`mental_health_status`, `extracurricular_participation`, `scholarship`, `internet_access`, `sleep_hours_per_night`)\n",
        "\n",
        "Los tipos de datos incluyen:\n",
        "- **Strings**: nombres, género, email, dirección, carrera.\n",
        "- **Numéricos**: edad, GPA, asistencia, horas de estudio y sueño.\n",
        "- **Booleanos**: participación extracurricular, beca, acceso a internet.\n",
        "- Algunas columnas contienen valores faltantes, los cuales se deberán tener en cuenta durante la limpieza y análisis del dataset."
      ]
    },
    {
      "cell_type": "markdown",
      "metadata": {
        "id": "JZDB3wAELlIw"
      },
      "source": [
        "## Informacion General del DataSet"
      ]
    },
    {
      "cell_type": "markdown",
      "metadata": {
        "id": "47sRYRpfL-Rq"
      },
      "source": [
        "### Muestra tipos de datos y analisis exploratorio del DF\n",
        "\n"
      ]
    },
    {
      "cell_type": "code",
      "execution_count": 6,
      "metadata": {
        "colab": {
          "base_uri": "https://localhost:8080/"
        },
        "id": "_8DRHpell4h0",
        "outputId": "dec684ba-84d0-4e22-82fa-4104a75657db"
      },
      "outputs": [
        {
          "output_type": "stream",
          "name": "stdout",
          "text": [
            "<class 'pandas.core.frame.DataFrame'>\n",
            "RangeIndex: 1000 entries, 0 to 999\n",
            "Data columns (total 18 columns):\n",
            " #   Column                         Non-Null Count  Dtype  \n",
            "---  ------                         --------------  -----  \n",
            " 0   student_ulid                   980 non-null    object \n",
            " 1   first_name                     1000 non-null   object \n",
            " 2   last_name                      969 non-null    object \n",
            " 3   student_id                     978 non-null    float64\n",
            " 4   gender                         982 non-null    object \n",
            " 5   age                            973 non-null    float64\n",
            " 6   email                          882 non-null    object \n",
            " 7   address                        792 non-null    object \n",
            " 8   phone                          833 non-null    object \n",
            " 9   major                          967 non-null    object \n",
            " 10  gpa                            942 non-null    float64\n",
            " 11  attendance_rate                887 non-null    float64\n",
            " 12  mental_health_status           907 non-null    object \n",
            " 13  study_hours_per_week           833 non-null    float64\n",
            " 14  extracurricular_participation  942 non-null    object \n",
            " 15  scholarship                    950 non-null    object \n",
            " 16  internet_access                906 non-null    object \n",
            " 17  sleep_hours_per_night          807 non-null    float64\n",
            "dtypes: float64(6), object(12)\n",
            "memory usage: 140.8+ KB\n"
          ]
        }
      ],
      "source": [
        "df.info()"
      ]
    },
    {
      "cell_type": "markdown",
      "metadata": {
        "id": "6FwXfqtMSnNE"
      },
      "source": [
        "### Análisis rápido de distribuciones"
      ]
    },
    {
      "cell_type": "markdown",
      "metadata": {
        "id": "GmXQBn66g1-U"
      },
      "source": [
        "Aplicado a variables Numéricas"
      ]
    },
    {
      "cell_type": "code",
      "execution_count": 7,
      "metadata": {
        "colab": {
          "base_uri": "https://localhost:8080/",
          "height": 300
        },
        "id": "GCh5pIRsmBfI",
        "outputId": "206ade60-1e88-4142-cc4e-b175c422fb6b"
      },
      "outputs": [
        {
          "output_type": "execute_result",
          "data": {
            "text/plain": [
              "         student_id         age         gpa  attendance_rate  \\\n",
              "count  9.780000e+02  973.000000  942.000000       887.000000   \n",
              "mean   5.017482e+09   59.146968    1.958535        74.647125   \n",
              "std    2.935483e+09   23.692257    1.161729        14.686512   \n",
              "min    2.402818e+07   18.000000    0.000000        50.000000   \n",
              "25%    2.465493e+09   39.000000    0.960000        62.000000   \n",
              "50%    4.932404e+09   60.000000    1.950000        75.000000   \n",
              "75%    7.652283e+09   79.000000    2.987500        87.000000   \n",
              "max    9.993930e+09   99.000000    4.000000       100.000000   \n",
              "\n",
              "       study_hours_per_week   sleep_hours_per_night  \n",
              "count             833.000000             807.000000  \n",
              "mean               20.374550               6.535316  \n",
              "std                11.818293               3.517193  \n",
              "min                 0.000000               1.000000  \n",
              "25%                10.000000               3.000000  \n",
              "50%                21.000000               7.000000  \n",
              "75%                30.000000              10.000000  \n",
              "max                40.000000              12.000000  "
            ],
            "text/html": [
              "\n",
              "  <div id=\"df-5a31f546-81a1-48de-ade7-bf930fabccf1\" class=\"colab-df-container\">\n",
              "    <div>\n",
              "<style scoped>\n",
              "    .dataframe tbody tr th:only-of-type {\n",
              "        vertical-align: middle;\n",
              "    }\n",
              "\n",
              "    .dataframe tbody tr th {\n",
              "        vertical-align: top;\n",
              "    }\n",
              "\n",
              "    .dataframe thead th {\n",
              "        text-align: right;\n",
              "    }\n",
              "</style>\n",
              "<table border=\"1\" class=\"dataframe\">\n",
              "  <thead>\n",
              "    <tr style=\"text-align: right;\">\n",
              "      <th></th>\n",
              "      <th>student_id</th>\n",
              "      <th>age</th>\n",
              "      <th>gpa</th>\n",
              "      <th>attendance_rate</th>\n",
              "      <th>study_hours_per_week</th>\n",
              "      <th>sleep_hours_per_night</th>\n",
              "    </tr>\n",
              "  </thead>\n",
              "  <tbody>\n",
              "    <tr>\n",
              "      <th>count</th>\n",
              "      <td>9.780000e+02</td>\n",
              "      <td>973.000000</td>\n",
              "      <td>942.000000</td>\n",
              "      <td>887.000000</td>\n",
              "      <td>833.000000</td>\n",
              "      <td>807.000000</td>\n",
              "    </tr>\n",
              "    <tr>\n",
              "      <th>mean</th>\n",
              "      <td>5.017482e+09</td>\n",
              "      <td>59.146968</td>\n",
              "      <td>1.958535</td>\n",
              "      <td>74.647125</td>\n",
              "      <td>20.374550</td>\n",
              "      <td>6.535316</td>\n",
              "    </tr>\n",
              "    <tr>\n",
              "      <th>std</th>\n",
              "      <td>2.935483e+09</td>\n",
              "      <td>23.692257</td>\n",
              "      <td>1.161729</td>\n",
              "      <td>14.686512</td>\n",
              "      <td>11.818293</td>\n",
              "      <td>3.517193</td>\n",
              "    </tr>\n",
              "    <tr>\n",
              "      <th>min</th>\n",
              "      <td>2.402818e+07</td>\n",
              "      <td>18.000000</td>\n",
              "      <td>0.000000</td>\n",
              "      <td>50.000000</td>\n",
              "      <td>0.000000</td>\n",
              "      <td>1.000000</td>\n",
              "    </tr>\n",
              "    <tr>\n",
              "      <th>25%</th>\n",
              "      <td>2.465493e+09</td>\n",
              "      <td>39.000000</td>\n",
              "      <td>0.960000</td>\n",
              "      <td>62.000000</td>\n",
              "      <td>10.000000</td>\n",
              "      <td>3.000000</td>\n",
              "    </tr>\n",
              "    <tr>\n",
              "      <th>50%</th>\n",
              "      <td>4.932404e+09</td>\n",
              "      <td>60.000000</td>\n",
              "      <td>1.950000</td>\n",
              "      <td>75.000000</td>\n",
              "      <td>21.000000</td>\n",
              "      <td>7.000000</td>\n",
              "    </tr>\n",
              "    <tr>\n",
              "      <th>75%</th>\n",
              "      <td>7.652283e+09</td>\n",
              "      <td>79.000000</td>\n",
              "      <td>2.987500</td>\n",
              "      <td>87.000000</td>\n",
              "      <td>30.000000</td>\n",
              "      <td>10.000000</td>\n",
              "    </tr>\n",
              "    <tr>\n",
              "      <th>max</th>\n",
              "      <td>9.993930e+09</td>\n",
              "      <td>99.000000</td>\n",
              "      <td>4.000000</td>\n",
              "      <td>100.000000</td>\n",
              "      <td>40.000000</td>\n",
              "      <td>12.000000</td>\n",
              "    </tr>\n",
              "  </tbody>\n",
              "</table>\n",
              "</div>\n",
              "    <div class=\"colab-df-buttons\">\n",
              "\n",
              "  <div class=\"colab-df-container\">\n",
              "    <button class=\"colab-df-convert\" onclick=\"convertToInteractive('df-5a31f546-81a1-48de-ade7-bf930fabccf1')\"\n",
              "            title=\"Convert this dataframe to an interactive table.\"\n",
              "            style=\"display:none;\">\n",
              "\n",
              "  <svg xmlns=\"http://www.w3.org/2000/svg\" height=\"24px\" viewBox=\"0 -960 960 960\">\n",
              "    <path d=\"M120-120v-720h720v720H120Zm60-500h600v-160H180v160Zm220 220h160v-160H400v160Zm0 220h160v-160H400v160ZM180-400h160v-160H180v160Zm440 0h160v-160H620v160ZM180-180h160v-160H180v160Zm440 0h160v-160H620v160Z\"/>\n",
              "  </svg>\n",
              "    </button>\n",
              "\n",
              "  <style>\n",
              "    .colab-df-container {\n",
              "      display:flex;\n",
              "      gap: 12px;\n",
              "    }\n",
              "\n",
              "    .colab-df-convert {\n",
              "      background-color: #E8F0FE;\n",
              "      border: none;\n",
              "      border-radius: 50%;\n",
              "      cursor: pointer;\n",
              "      display: none;\n",
              "      fill: #1967D2;\n",
              "      height: 32px;\n",
              "      padding: 0 0 0 0;\n",
              "      width: 32px;\n",
              "    }\n",
              "\n",
              "    .colab-df-convert:hover {\n",
              "      background-color: #E2EBFA;\n",
              "      box-shadow: 0px 1px 2px rgba(60, 64, 67, 0.3), 0px 1px 3px 1px rgba(60, 64, 67, 0.15);\n",
              "      fill: #174EA6;\n",
              "    }\n",
              "\n",
              "    .colab-df-buttons div {\n",
              "      margin-bottom: 4px;\n",
              "    }\n",
              "\n",
              "    [theme=dark] .colab-df-convert {\n",
              "      background-color: #3B4455;\n",
              "      fill: #D2E3FC;\n",
              "    }\n",
              "\n",
              "    [theme=dark] .colab-df-convert:hover {\n",
              "      background-color: #434B5C;\n",
              "      box-shadow: 0px 1px 3px 1px rgba(0, 0, 0, 0.15);\n",
              "      filter: drop-shadow(0px 1px 2px rgba(0, 0, 0, 0.3));\n",
              "      fill: #FFFFFF;\n",
              "    }\n",
              "  </style>\n",
              "\n",
              "    <script>\n",
              "      const buttonEl =\n",
              "        document.querySelector('#df-5a31f546-81a1-48de-ade7-bf930fabccf1 button.colab-df-convert');\n",
              "      buttonEl.style.display =\n",
              "        google.colab.kernel.accessAllowed ? 'block' : 'none';\n",
              "\n",
              "      async function convertToInteractive(key) {\n",
              "        const element = document.querySelector('#df-5a31f546-81a1-48de-ade7-bf930fabccf1');\n",
              "        const dataTable =\n",
              "          await google.colab.kernel.invokeFunction('convertToInteractive',\n",
              "                                                    [key], {});\n",
              "        if (!dataTable) return;\n",
              "\n",
              "        const docLinkHtml = 'Like what you see? Visit the ' +\n",
              "          '<a target=\"_blank\" href=https://colab.research.google.com/notebooks/data_table.ipynb>data table notebook</a>'\n",
              "          + ' to learn more about interactive tables.';\n",
              "        element.innerHTML = '';\n",
              "        dataTable['output_type'] = 'display_data';\n",
              "        await google.colab.output.renderOutput(dataTable, element);\n",
              "        const docLink = document.createElement('div');\n",
              "        docLink.innerHTML = docLinkHtml;\n",
              "        element.appendChild(docLink);\n",
              "      }\n",
              "    </script>\n",
              "  </div>\n",
              "\n",
              "\n",
              "    <div id=\"df-0803c7e1-f7b3-4490-9349-4065b653906c\">\n",
              "      <button class=\"colab-df-quickchart\" onclick=\"quickchart('df-0803c7e1-f7b3-4490-9349-4065b653906c')\"\n",
              "                title=\"Suggest charts\"\n",
              "                style=\"display:none;\">\n",
              "\n",
              "<svg xmlns=\"http://www.w3.org/2000/svg\" height=\"24px\"viewBox=\"0 0 24 24\"\n",
              "     width=\"24px\">\n",
              "    <g>\n",
              "        <path d=\"M19 3H5c-1.1 0-2 .9-2 2v14c0 1.1.9 2 2 2h14c1.1 0 2-.9 2-2V5c0-1.1-.9-2-2-2zM9 17H7v-7h2v7zm4 0h-2V7h2v10zm4 0h-2v-4h2v4z\"/>\n",
              "    </g>\n",
              "</svg>\n",
              "      </button>\n",
              "\n",
              "<style>\n",
              "  .colab-df-quickchart {\n",
              "      --bg-color: #E8F0FE;\n",
              "      --fill-color: #1967D2;\n",
              "      --hover-bg-color: #E2EBFA;\n",
              "      --hover-fill-color: #174EA6;\n",
              "      --disabled-fill-color: #AAA;\n",
              "      --disabled-bg-color: #DDD;\n",
              "  }\n",
              "\n",
              "  [theme=dark] .colab-df-quickchart {\n",
              "      --bg-color: #3B4455;\n",
              "      --fill-color: #D2E3FC;\n",
              "      --hover-bg-color: #434B5C;\n",
              "      --hover-fill-color: #FFFFFF;\n",
              "      --disabled-bg-color: #3B4455;\n",
              "      --disabled-fill-color: #666;\n",
              "  }\n",
              "\n",
              "  .colab-df-quickchart {\n",
              "    background-color: var(--bg-color);\n",
              "    border: none;\n",
              "    border-radius: 50%;\n",
              "    cursor: pointer;\n",
              "    display: none;\n",
              "    fill: var(--fill-color);\n",
              "    height: 32px;\n",
              "    padding: 0;\n",
              "    width: 32px;\n",
              "  }\n",
              "\n",
              "  .colab-df-quickchart:hover {\n",
              "    background-color: var(--hover-bg-color);\n",
              "    box-shadow: 0 1px 2px rgba(60, 64, 67, 0.3), 0 1px 3px 1px rgba(60, 64, 67, 0.15);\n",
              "    fill: var(--button-hover-fill-color);\n",
              "  }\n",
              "\n",
              "  .colab-df-quickchart-complete:disabled,\n",
              "  .colab-df-quickchart-complete:disabled:hover {\n",
              "    background-color: var(--disabled-bg-color);\n",
              "    fill: var(--disabled-fill-color);\n",
              "    box-shadow: none;\n",
              "  }\n",
              "\n",
              "  .colab-df-spinner {\n",
              "    border: 2px solid var(--fill-color);\n",
              "    border-color: transparent;\n",
              "    border-bottom-color: var(--fill-color);\n",
              "    animation:\n",
              "      spin 1s steps(1) infinite;\n",
              "  }\n",
              "\n",
              "  @keyframes spin {\n",
              "    0% {\n",
              "      border-color: transparent;\n",
              "      border-bottom-color: var(--fill-color);\n",
              "      border-left-color: var(--fill-color);\n",
              "    }\n",
              "    20% {\n",
              "      border-color: transparent;\n",
              "      border-left-color: var(--fill-color);\n",
              "      border-top-color: var(--fill-color);\n",
              "    }\n",
              "    30% {\n",
              "      border-color: transparent;\n",
              "      border-left-color: var(--fill-color);\n",
              "      border-top-color: var(--fill-color);\n",
              "      border-right-color: var(--fill-color);\n",
              "    }\n",
              "    40% {\n",
              "      border-color: transparent;\n",
              "      border-right-color: var(--fill-color);\n",
              "      border-top-color: var(--fill-color);\n",
              "    }\n",
              "    60% {\n",
              "      border-color: transparent;\n",
              "      border-right-color: var(--fill-color);\n",
              "    }\n",
              "    80% {\n",
              "      border-color: transparent;\n",
              "      border-right-color: var(--fill-color);\n",
              "      border-bottom-color: var(--fill-color);\n",
              "    }\n",
              "    90% {\n",
              "      border-color: transparent;\n",
              "      border-bottom-color: var(--fill-color);\n",
              "    }\n",
              "  }\n",
              "</style>\n",
              "\n",
              "      <script>\n",
              "        async function quickchart(key) {\n",
              "          const quickchartButtonEl =\n",
              "            document.querySelector('#' + key + ' button');\n",
              "          quickchartButtonEl.disabled = true;  // To prevent multiple clicks.\n",
              "          quickchartButtonEl.classList.add('colab-df-spinner');\n",
              "          try {\n",
              "            const charts = await google.colab.kernel.invokeFunction(\n",
              "                'suggestCharts', [key], {});\n",
              "          } catch (error) {\n",
              "            console.error('Error during call to suggestCharts:', error);\n",
              "          }\n",
              "          quickchartButtonEl.classList.remove('colab-df-spinner');\n",
              "          quickchartButtonEl.classList.add('colab-df-quickchart-complete');\n",
              "        }\n",
              "        (() => {\n",
              "          let quickchartButtonEl =\n",
              "            document.querySelector('#df-0803c7e1-f7b3-4490-9349-4065b653906c button');\n",
              "          quickchartButtonEl.style.display =\n",
              "            google.colab.kernel.accessAllowed ? 'block' : 'none';\n",
              "        })();\n",
              "      </script>\n",
              "    </div>\n",
              "\n",
              "    </div>\n",
              "  </div>\n"
            ],
            "application/vnd.google.colaboratory.intrinsic+json": {
              "type": "dataframe",
              "summary": "{\n  \"name\": \"df\",\n  \"rows\": 8,\n  \"fields\": [\n    {\n      \"column\": \"student_id\",\n      \"properties\": {\n        \"dtype\": \"number\",\n        \"std\": 3511957754.327002,\n        \"min\": 978.0,\n        \"max\": 9993929875.0,\n        \"num_unique_values\": 8,\n        \"samples\": [\n          5017482305.162577,\n          4932403755.0,\n          978.0\n        ],\n        \"semantic_type\": \"\",\n        \"description\": \"\"\n      }\n    },\n    {\n      \"column\": \"age\",\n      \"properties\": {\n        \"dtype\": \"number\",\n        \"std\": 326.0543031989744,\n        \"min\": 18.0,\n        \"max\": 973.0,\n        \"num_unique_values\": 8,\n        \"samples\": [\n          59.1469681397739,\n          60.0,\n          973.0\n        ],\n        \"semantic_type\": \"\",\n        \"description\": \"\"\n      }\n    },\n    {\n      \"column\": \"gpa\",\n      \"properties\": {\n        \"dtype\": \"number\",\n        \"std\": 332.39208100842353,\n        \"min\": 0.0,\n        \"max\": 942.0,\n        \"num_unique_values\": 8,\n        \"samples\": [\n          1.9585350318471337,\n          1.95,\n          942.0\n        ],\n        \"semantic_type\": \"\",\n        \"description\": \"\"\n      }\n    },\n    {\n      \"column\": \"attendance_rate\",\n      \"properties\": {\n        \"dtype\": \"number\",\n        \"std\": 291.34411921251916,\n        \"min\": 14.686511608128695,\n        \"max\": 887.0,\n        \"num_unique_values\": 8,\n        \"samples\": [\n          74.64712514092446,\n          75.0,\n          887.0\n        ],\n        \"semantic_type\": \"\",\n        \"description\": \"\"\n      }\n    },\n    {\n      \"column\": \"study_hours_per_week \",\n      \"properties\": {\n        \"dtype\": \"number\",\n        \"std\": 288.0460573767476,\n        \"min\": 0.0,\n        \"max\": 833.0,\n        \"num_unique_values\": 8,\n        \"samples\": [\n          20.37454981992797,\n          21.0,\n          833.0\n        ],\n        \"semantic_type\": \"\",\n        \"description\": \"\"\n      }\n    },\n    {\n      \"column\": \"sleep_hours_per_night\",\n      \"properties\": {\n        \"dtype\": \"number\",\n        \"std\": 283.16664008848113,\n        \"min\": 1.0,\n        \"max\": 807.0,\n        \"num_unique_values\": 8,\n        \"samples\": [\n          6.5353159851301115,\n          7.0,\n          807.0\n        ],\n        \"semantic_type\": \"\",\n        \"description\": \"\"\n      }\n    }\n  ]\n}"
            }
          },
          "metadata": {},
          "execution_count": 7
        }
      ],
      "source": [
        "df.describe()"
      ]
    },
    {
      "cell_type": "markdown",
      "metadata": {
        "id": "lifs_jHTg1-V"
      },
      "source": [
        "Aplicado a variables categóricas"
      ]
    },
    {
      "cell_type": "code",
      "execution_count": 8,
      "metadata": {
        "colab": {
          "base_uri": "https://localhost:8080/",
          "height": 230
        },
        "id": "0y1TbnfGg1-W",
        "outputId": "2353063e-097b-4bb3-bd63-682991966e9d"
      },
      "outputs": [
        {
          "output_type": "execute_result",
          "data": {
            "text/plain": [
              "                      student_ulid first_name last_name  gender  \\\n",
              "count                          980       1000       969     982   \n",
              "unique                         980        938       962       8   \n",
              "top     01JSJW8J9WJ5J2TPY10N96S9QT      Nicol      Dehn  Female   \n",
              "freq                             1          3         2     451   \n",
              "\n",
              "                    email            address           phone    major  \\\n",
              "count                 882                 792            833      967   \n",
              "unique                882                 792            833        7   \n",
              "top     ggerirr@weibo.com  60 Fairfield Place  (727) 1749788  Student   \n",
              "freq                    1                   1              1      152   \n",
              "\n",
              "       mental_health_status extracurricular_participation scholarship   \\\n",
              "count                   907                           942          950   \n",
              "unique                    3                             2            2   \n",
              "top                    Good                         False         True   \n",
              "freq                    316                           494          478   \n",
              "\n",
              "       internet_access   \n",
              "count               906  \n",
              "unique                2  \n",
              "top                True  \n",
              "freq                464  "
            ],
            "text/html": [
              "\n",
              "  <div id=\"df-60900115-9e7a-44ab-ab31-54d6679870d2\" class=\"colab-df-container\">\n",
              "    <div>\n",
              "<style scoped>\n",
              "    .dataframe tbody tr th:only-of-type {\n",
              "        vertical-align: middle;\n",
              "    }\n",
              "\n",
              "    .dataframe tbody tr th {\n",
              "        vertical-align: top;\n",
              "    }\n",
              "\n",
              "    .dataframe thead th {\n",
              "        text-align: right;\n",
              "    }\n",
              "</style>\n",
              "<table border=\"1\" class=\"dataframe\">\n",
              "  <thead>\n",
              "    <tr style=\"text-align: right;\">\n",
              "      <th></th>\n",
              "      <th>student_ulid</th>\n",
              "      <th>first_name</th>\n",
              "      <th>last_name</th>\n",
              "      <th>gender</th>\n",
              "      <th>email</th>\n",
              "      <th>address</th>\n",
              "      <th>phone</th>\n",
              "      <th>major</th>\n",
              "      <th>mental_health_status</th>\n",
              "      <th>extracurricular_participation</th>\n",
              "      <th>scholarship</th>\n",
              "      <th>internet_access</th>\n",
              "    </tr>\n",
              "  </thead>\n",
              "  <tbody>\n",
              "    <tr>\n",
              "      <th>count</th>\n",
              "      <td>980</td>\n",
              "      <td>1000</td>\n",
              "      <td>969</td>\n",
              "      <td>982</td>\n",
              "      <td>882</td>\n",
              "      <td>792</td>\n",
              "      <td>833</td>\n",
              "      <td>967</td>\n",
              "      <td>907</td>\n",
              "      <td>942</td>\n",
              "      <td>950</td>\n",
              "      <td>906</td>\n",
              "    </tr>\n",
              "    <tr>\n",
              "      <th>unique</th>\n",
              "      <td>980</td>\n",
              "      <td>938</td>\n",
              "      <td>962</td>\n",
              "      <td>8</td>\n",
              "      <td>882</td>\n",
              "      <td>792</td>\n",
              "      <td>833</td>\n",
              "      <td>7</td>\n",
              "      <td>3</td>\n",
              "      <td>2</td>\n",
              "      <td>2</td>\n",
              "      <td>2</td>\n",
              "    </tr>\n",
              "    <tr>\n",
              "      <th>top</th>\n",
              "      <td>01JSJW8J9WJ5J2TPY10N96S9QT</td>\n",
              "      <td>Nicol</td>\n",
              "      <td>Dehn</td>\n",
              "      <td>Female</td>\n",
              "      <td>ggerirr@weibo.com</td>\n",
              "      <td>60 Fairfield Place</td>\n",
              "      <td>(727) 1749788</td>\n",
              "      <td>Student</td>\n",
              "      <td>Good</td>\n",
              "      <td>False</td>\n",
              "      <td>True</td>\n",
              "      <td>True</td>\n",
              "    </tr>\n",
              "    <tr>\n",
              "      <th>freq</th>\n",
              "      <td>1</td>\n",
              "      <td>3</td>\n",
              "      <td>2</td>\n",
              "      <td>451</td>\n",
              "      <td>1</td>\n",
              "      <td>1</td>\n",
              "      <td>1</td>\n",
              "      <td>152</td>\n",
              "      <td>316</td>\n",
              "      <td>494</td>\n",
              "      <td>478</td>\n",
              "      <td>464</td>\n",
              "    </tr>\n",
              "  </tbody>\n",
              "</table>\n",
              "</div>\n",
              "    <div class=\"colab-df-buttons\">\n",
              "\n",
              "  <div class=\"colab-df-container\">\n",
              "    <button class=\"colab-df-convert\" onclick=\"convertToInteractive('df-60900115-9e7a-44ab-ab31-54d6679870d2')\"\n",
              "            title=\"Convert this dataframe to an interactive table.\"\n",
              "            style=\"display:none;\">\n",
              "\n",
              "  <svg xmlns=\"http://www.w3.org/2000/svg\" height=\"24px\" viewBox=\"0 -960 960 960\">\n",
              "    <path d=\"M120-120v-720h720v720H120Zm60-500h600v-160H180v160Zm220 220h160v-160H400v160Zm0 220h160v-160H400v160ZM180-400h160v-160H180v160Zm440 0h160v-160H620v160ZM180-180h160v-160H180v160Zm440 0h160v-160H620v160Z\"/>\n",
              "  </svg>\n",
              "    </button>\n",
              "\n",
              "  <style>\n",
              "    .colab-df-container {\n",
              "      display:flex;\n",
              "      gap: 12px;\n",
              "    }\n",
              "\n",
              "    .colab-df-convert {\n",
              "      background-color: #E8F0FE;\n",
              "      border: none;\n",
              "      border-radius: 50%;\n",
              "      cursor: pointer;\n",
              "      display: none;\n",
              "      fill: #1967D2;\n",
              "      height: 32px;\n",
              "      padding: 0 0 0 0;\n",
              "      width: 32px;\n",
              "    }\n",
              "\n",
              "    .colab-df-convert:hover {\n",
              "      background-color: #E2EBFA;\n",
              "      box-shadow: 0px 1px 2px rgba(60, 64, 67, 0.3), 0px 1px 3px 1px rgba(60, 64, 67, 0.15);\n",
              "      fill: #174EA6;\n",
              "    }\n",
              "\n",
              "    .colab-df-buttons div {\n",
              "      margin-bottom: 4px;\n",
              "    }\n",
              "\n",
              "    [theme=dark] .colab-df-convert {\n",
              "      background-color: #3B4455;\n",
              "      fill: #D2E3FC;\n",
              "    }\n",
              "\n",
              "    [theme=dark] .colab-df-convert:hover {\n",
              "      background-color: #434B5C;\n",
              "      box-shadow: 0px 1px 3px 1px rgba(0, 0, 0, 0.15);\n",
              "      filter: drop-shadow(0px 1px 2px rgba(0, 0, 0, 0.3));\n",
              "      fill: #FFFFFF;\n",
              "    }\n",
              "  </style>\n",
              "\n",
              "    <script>\n",
              "      const buttonEl =\n",
              "        document.querySelector('#df-60900115-9e7a-44ab-ab31-54d6679870d2 button.colab-df-convert');\n",
              "      buttonEl.style.display =\n",
              "        google.colab.kernel.accessAllowed ? 'block' : 'none';\n",
              "\n",
              "      async function convertToInteractive(key) {\n",
              "        const element = document.querySelector('#df-60900115-9e7a-44ab-ab31-54d6679870d2');\n",
              "        const dataTable =\n",
              "          await google.colab.kernel.invokeFunction('convertToInteractive',\n",
              "                                                    [key], {});\n",
              "        if (!dataTable) return;\n",
              "\n",
              "        const docLinkHtml = 'Like what you see? Visit the ' +\n",
              "          '<a target=\"_blank\" href=https://colab.research.google.com/notebooks/data_table.ipynb>data table notebook</a>'\n",
              "          + ' to learn more about interactive tables.';\n",
              "        element.innerHTML = '';\n",
              "        dataTable['output_type'] = 'display_data';\n",
              "        await google.colab.output.renderOutput(dataTable, element);\n",
              "        const docLink = document.createElement('div');\n",
              "        docLink.innerHTML = docLinkHtml;\n",
              "        element.appendChild(docLink);\n",
              "      }\n",
              "    </script>\n",
              "  </div>\n",
              "\n",
              "\n",
              "    <div id=\"df-30a656e5-d996-4856-8e76-668b9045c0c7\">\n",
              "      <button class=\"colab-df-quickchart\" onclick=\"quickchart('df-30a656e5-d996-4856-8e76-668b9045c0c7')\"\n",
              "                title=\"Suggest charts\"\n",
              "                style=\"display:none;\">\n",
              "\n",
              "<svg xmlns=\"http://www.w3.org/2000/svg\" height=\"24px\"viewBox=\"0 0 24 24\"\n",
              "     width=\"24px\">\n",
              "    <g>\n",
              "        <path d=\"M19 3H5c-1.1 0-2 .9-2 2v14c0 1.1.9 2 2 2h14c1.1 0 2-.9 2-2V5c0-1.1-.9-2-2-2zM9 17H7v-7h2v7zm4 0h-2V7h2v10zm4 0h-2v-4h2v4z\"/>\n",
              "    </g>\n",
              "</svg>\n",
              "      </button>\n",
              "\n",
              "<style>\n",
              "  .colab-df-quickchart {\n",
              "      --bg-color: #E8F0FE;\n",
              "      --fill-color: #1967D2;\n",
              "      --hover-bg-color: #E2EBFA;\n",
              "      --hover-fill-color: #174EA6;\n",
              "      --disabled-fill-color: #AAA;\n",
              "      --disabled-bg-color: #DDD;\n",
              "  }\n",
              "\n",
              "  [theme=dark] .colab-df-quickchart {\n",
              "      --bg-color: #3B4455;\n",
              "      --fill-color: #D2E3FC;\n",
              "      --hover-bg-color: #434B5C;\n",
              "      --hover-fill-color: #FFFFFF;\n",
              "      --disabled-bg-color: #3B4455;\n",
              "      --disabled-fill-color: #666;\n",
              "  }\n",
              "\n",
              "  .colab-df-quickchart {\n",
              "    background-color: var(--bg-color);\n",
              "    border: none;\n",
              "    border-radius: 50%;\n",
              "    cursor: pointer;\n",
              "    display: none;\n",
              "    fill: var(--fill-color);\n",
              "    height: 32px;\n",
              "    padding: 0;\n",
              "    width: 32px;\n",
              "  }\n",
              "\n",
              "  .colab-df-quickchart:hover {\n",
              "    background-color: var(--hover-bg-color);\n",
              "    box-shadow: 0 1px 2px rgba(60, 64, 67, 0.3), 0 1px 3px 1px rgba(60, 64, 67, 0.15);\n",
              "    fill: var(--button-hover-fill-color);\n",
              "  }\n",
              "\n",
              "  .colab-df-quickchart-complete:disabled,\n",
              "  .colab-df-quickchart-complete:disabled:hover {\n",
              "    background-color: var(--disabled-bg-color);\n",
              "    fill: var(--disabled-fill-color);\n",
              "    box-shadow: none;\n",
              "  }\n",
              "\n",
              "  .colab-df-spinner {\n",
              "    border: 2px solid var(--fill-color);\n",
              "    border-color: transparent;\n",
              "    border-bottom-color: var(--fill-color);\n",
              "    animation:\n",
              "      spin 1s steps(1) infinite;\n",
              "  }\n",
              "\n",
              "  @keyframes spin {\n",
              "    0% {\n",
              "      border-color: transparent;\n",
              "      border-bottom-color: var(--fill-color);\n",
              "      border-left-color: var(--fill-color);\n",
              "    }\n",
              "    20% {\n",
              "      border-color: transparent;\n",
              "      border-left-color: var(--fill-color);\n",
              "      border-top-color: var(--fill-color);\n",
              "    }\n",
              "    30% {\n",
              "      border-color: transparent;\n",
              "      border-left-color: var(--fill-color);\n",
              "      border-top-color: var(--fill-color);\n",
              "      border-right-color: var(--fill-color);\n",
              "    }\n",
              "    40% {\n",
              "      border-color: transparent;\n",
              "      border-right-color: var(--fill-color);\n",
              "      border-top-color: var(--fill-color);\n",
              "    }\n",
              "    60% {\n",
              "      border-color: transparent;\n",
              "      border-right-color: var(--fill-color);\n",
              "    }\n",
              "    80% {\n",
              "      border-color: transparent;\n",
              "      border-right-color: var(--fill-color);\n",
              "      border-bottom-color: var(--fill-color);\n",
              "    }\n",
              "    90% {\n",
              "      border-color: transparent;\n",
              "      border-bottom-color: var(--fill-color);\n",
              "    }\n",
              "  }\n",
              "</style>\n",
              "\n",
              "      <script>\n",
              "        async function quickchart(key) {\n",
              "          const quickchartButtonEl =\n",
              "            document.querySelector('#' + key + ' button');\n",
              "          quickchartButtonEl.disabled = true;  // To prevent multiple clicks.\n",
              "          quickchartButtonEl.classList.add('colab-df-spinner');\n",
              "          try {\n",
              "            const charts = await google.colab.kernel.invokeFunction(\n",
              "                'suggestCharts', [key], {});\n",
              "          } catch (error) {\n",
              "            console.error('Error during call to suggestCharts:', error);\n",
              "          }\n",
              "          quickchartButtonEl.classList.remove('colab-df-spinner');\n",
              "          quickchartButtonEl.classList.add('colab-df-quickchart-complete');\n",
              "        }\n",
              "        (() => {\n",
              "          let quickchartButtonEl =\n",
              "            document.querySelector('#df-30a656e5-d996-4856-8e76-668b9045c0c7 button');\n",
              "          quickchartButtonEl.style.display =\n",
              "            google.colab.kernel.accessAllowed ? 'block' : 'none';\n",
              "        })();\n",
              "      </script>\n",
              "    </div>\n",
              "\n",
              "    </div>\n",
              "  </div>\n"
            ],
            "application/vnd.google.colaboratory.intrinsic+json": {
              "type": "dataframe",
              "summary": "{\n  \"name\": \"df\",\n  \"rows\": 4,\n  \"fields\": [\n    {\n      \"column\": \"student_ulid\",\n      \"properties\": {\n        \"dtype\": \"string\",\n        \"num_unique_values\": 3,\n        \"samples\": [\n          \"980\",\n          \"01JSJW8J9WJ5J2TPY10N96S9QT\",\n          \"1\"\n        ],\n        \"semantic_type\": \"\",\n        \"description\": \"\"\n      }\n    },\n    {\n      \"column\": \"first_name\",\n      \"properties\": {\n        \"dtype\": \"string\",\n        \"num_unique_values\": 4,\n        \"samples\": [\n          938,\n          \"3\",\n          \"1000\"\n        ],\n        \"semantic_type\": \"\",\n        \"description\": \"\"\n      }\n    },\n    {\n      \"column\": \"last_name\",\n      \"properties\": {\n        \"dtype\": \"string\",\n        \"num_unique_values\": 4,\n        \"samples\": [\n          962,\n          \"2\",\n          \"969\"\n        ],\n        \"semantic_type\": \"\",\n        \"description\": \"\"\n      }\n    },\n    {\n      \"column\": \"gender\",\n      \"properties\": {\n        \"dtype\": \"string\",\n        \"num_unique_values\": 4,\n        \"samples\": [\n          8,\n          \"451\",\n          \"982\"\n        ],\n        \"semantic_type\": \"\",\n        \"description\": \"\"\n      }\n    },\n    {\n      \"column\": \"email\",\n      \"properties\": {\n        \"dtype\": \"string\",\n        \"num_unique_values\": 3,\n        \"samples\": [\n          \"882\",\n          \"ggerirr@weibo.com\",\n          \"1\"\n        ],\n        \"semantic_type\": \"\",\n        \"description\": \"\"\n      }\n    },\n    {\n      \"column\": \"address \",\n      \"properties\": {\n        \"dtype\": \"string\",\n        \"num_unique_values\": 3,\n        \"samples\": [\n          \"792\",\n          \"60 Fairfield Place\",\n          \"1\"\n        ],\n        \"semantic_type\": \"\",\n        \"description\": \"\"\n      }\n    },\n    {\n      \"column\": \"phone\",\n      \"properties\": {\n        \"dtype\": \"string\",\n        \"num_unique_values\": 3,\n        \"samples\": [\n          \"833\",\n          \"(727) 1749788\",\n          \"1\"\n        ],\n        \"semantic_type\": \"\",\n        \"description\": \"\"\n      }\n    },\n    {\n      \"column\": \"major\",\n      \"properties\": {\n        \"dtype\": \"string\",\n        \"num_unique_values\": 4,\n        \"samples\": [\n          7,\n          \"152\",\n          \"967\"\n        ],\n        \"semantic_type\": \"\",\n        \"description\": \"\"\n      }\n    },\n    {\n      \"column\": \"mental_health_status\",\n      \"properties\": {\n        \"dtype\": \"string\",\n        \"num_unique_values\": 4,\n        \"samples\": [\n          3,\n          \"316\",\n          \"907\"\n        ],\n        \"semantic_type\": \"\",\n        \"description\": \"\"\n      }\n    },\n    {\n      \"column\": \"extracurricular_participation\",\n      \"properties\": {\n        \"dtype\": \"string\",\n        \"num_unique_values\": 4,\n        \"samples\": [\n          2,\n          \"494\",\n          \"942\"\n        ],\n        \"semantic_type\": \"\",\n        \"description\": \"\"\n      }\n    },\n    {\n      \"column\": \"scholarship \",\n      \"properties\": {\n        \"dtype\": \"string\",\n        \"num_unique_values\": 4,\n        \"samples\": [\n          2,\n          \"478\",\n          \"950\"\n        ],\n        \"semantic_type\": \"\",\n        \"description\": \"\"\n      }\n    },\n    {\n      \"column\": \"internet_access \",\n      \"properties\": {\n        \"dtype\": \"string\",\n        \"num_unique_values\": 4,\n        \"samples\": [\n          2,\n          \"464\",\n          \"906\"\n        ],\n        \"semantic_type\": \"\",\n        \"description\": \"\"\n      }\n    }\n  ]\n}"
            }
          },
          "metadata": {},
          "execution_count": 8
        }
      ],
      "source": [
        "df.describe(include=['object', 'category','bool'])"
      ]
    },
    {
      "cell_type": "markdown",
      "metadata": {
        "id": "Pr9XCYB9mr-4"
      },
      "source": [
        "### Cantidad de estudiantes por carrera"
      ]
    },
    {
      "cell_type": "code",
      "execution_count": 9,
      "metadata": {
        "colab": {
          "base_uri": "https://localhost:8080/",
          "height": 335
        },
        "id": "Knt90J5AmaGC",
        "outputId": "e504d5c4-e4ae-4713-bbe7-e626c9b918ee"
      },
      "outputs": [
        {
          "output_type": "execute_result",
          "data": {
            "text/plain": [
              "major\n",
              "Student           152\n",
              "Architecture      148\n",
              "Engineering       144\n",
              "Law               135\n",
              "Psychology        132\n",
              "Medicine          131\n",
              "Administration    125\n",
              "Name: count, dtype: int64"
            ],
            "text/html": [
              "<div>\n",
              "<style scoped>\n",
              "    .dataframe tbody tr th:only-of-type {\n",
              "        vertical-align: middle;\n",
              "    }\n",
              "\n",
              "    .dataframe tbody tr th {\n",
              "        vertical-align: top;\n",
              "    }\n",
              "\n",
              "    .dataframe thead th {\n",
              "        text-align: right;\n",
              "    }\n",
              "</style>\n",
              "<table border=\"1\" class=\"dataframe\">\n",
              "  <thead>\n",
              "    <tr style=\"text-align: right;\">\n",
              "      <th></th>\n",
              "      <th>count</th>\n",
              "    </tr>\n",
              "    <tr>\n",
              "      <th>major</th>\n",
              "      <th></th>\n",
              "    </tr>\n",
              "  </thead>\n",
              "  <tbody>\n",
              "    <tr>\n",
              "      <th>Student</th>\n",
              "      <td>152</td>\n",
              "    </tr>\n",
              "    <tr>\n",
              "      <th>Architecture</th>\n",
              "      <td>148</td>\n",
              "    </tr>\n",
              "    <tr>\n",
              "      <th>Engineering</th>\n",
              "      <td>144</td>\n",
              "    </tr>\n",
              "    <tr>\n",
              "      <th>Law</th>\n",
              "      <td>135</td>\n",
              "    </tr>\n",
              "    <tr>\n",
              "      <th>Psychology</th>\n",
              "      <td>132</td>\n",
              "    </tr>\n",
              "    <tr>\n",
              "      <th>Medicine</th>\n",
              "      <td>131</td>\n",
              "    </tr>\n",
              "    <tr>\n",
              "      <th>Administration</th>\n",
              "      <td>125</td>\n",
              "    </tr>\n",
              "  </tbody>\n",
              "</table>\n",
              "</div><br><label><b>dtype:</b> int64</label>"
            ]
          },
          "metadata": {},
          "execution_count": 9
        }
      ],
      "source": [
        "df['major'].value_counts()"
      ]
    },
    {
      "cell_type": "markdown",
      "metadata": {
        "id": "QkUMov2Wnc74"
      },
      "source": [
        "### Filas Nulas\n",
        "a continuacion se detalla cantidad de campos nulos por fila.\n",
        "La primera columna indica la cantidad de campos vacios que presenta y la segunda columna el conteo de filas que cumplen esa condicion."
      ]
    },
    {
      "cell_type": "code",
      "execution_count": 10,
      "metadata": {
        "colab": {
          "base_uri": "https://localhost:8080/"
        },
        "id": "JnUuZ8LAnblv",
        "outputId": "a09a928f-3ea2-4197-a689-8c390c2ee864"
      },
      "outputs": [
        {
          "output_type": "stream",
          "name": "stdout",
          "text": [
            "0    198\n",
            "1    349\n",
            "2    292\n",
            "3    119\n",
            "4     30\n",
            "5     12\n",
            "Name: count, dtype: int64\n"
          ]
        }
      ],
      "source": [
        "valores_nulos_por_fila = df.isnull().sum(axis=1)\n",
        "agrupado = valores_nulos_por_fila.value_counts().sort_index()\n",
        "\n",
        "print(agrupado)"
      ]
    },
    {
      "cell_type": "markdown",
      "metadata": {
        "id": "eQDG-rzVg1-a"
      },
      "source": [
        "### Edades fuera de rango"
      ]
    },
    {
      "cell_type": "code",
      "execution_count": 11,
      "metadata": {
        "colab": {
          "base_uri": "https://localhost:8080/"
        },
        "id": "aFid6_1Ao3Mf",
        "outputId": "4fdedb10-c1cb-4b38-bd9b-04ad9370e6c9"
      },
      "outputs": [
        {
          "output_type": "stream",
          "name": "stdout",
          "text": [
            "Registros con edades fuera de rango: 0 (ninguno encontrado)\n"
          ]
        }
      ],
      "source": [
        "# Revisar si existen edades fuera de un rango razonable (ejemplo: menores de 16 o mayores de 99)\n",
        "invalid_ages = df[(df['age'] < 16) | (df['age'] > 99)]\n",
        "\n",
        "if invalid_ages.empty:\n",
        "    print(\"Registros con edades fuera de rango: 0 (ninguno encontrado)\")\n",
        "else:\n",
        "    print(f\"Registros con edades fuera de rango:\\n{invalid_ages}\")\n"
      ]
    },
    {
      "cell_type": "markdown",
      "metadata": {
        "id": "-M7dvzAeg1-b"
      },
      "source": [
        "### Valores erróneos en género"
      ]
    },
    {
      "cell_type": "code",
      "execution_count": 12,
      "metadata": {
        "colab": {
          "base_uri": "https://localhost:8080/"
        },
        "id": "utKMCFUpg1-b",
        "outputId": "0ca089ae-bcc2-4fda-c9b8-fe312d0c9807"
      },
      "outputs": [
        {
          "output_type": "stream",
          "name": "stdout",
          "text": [
            "Valores erróneos en la columna 'gender': 106\n"
          ]
        }
      ],
      "source": [
        "# Verificar valores erróneos en género (ejemplo: valores que no sean 'Male' o 'Female')\n",
        "invalid_gender = df[~df['gender'].isin(['Male', 'Female'])]\n",
        "cantidad_invalidos = invalid_gender.shape[0]\n",
        "\n",
        "print(f\"Valores erróneos en la columna 'gender': {cantidad_invalidos}\")\n"
      ]
    },
    {
      "cell_type": "markdown",
      "metadata": {
        "id": "f3HcgN6og1-b"
      },
      "source": [
        "Detalle de **valores mal cargados** en gender"
      ]
    },
    {
      "cell_type": "code",
      "execution_count": 13,
      "metadata": {
        "colab": {
          "base_uri": "https://localhost:8080/"
        },
        "id": "OeHW4jYbg1-b",
        "outputId": "93044731-8c67-4a04-a937-0ba5c8b63aee"
      },
      "outputs": [
        {
          "output_type": "stream",
          "name": "stdout",
          "text": [
            "          gender\n",
            "0    Genderqueer\n",
            "8     Polygender\n",
            "12      Bigender\n",
            "25       Agender\n",
            "31    Polygender\n",
            "..           ...\n",
            "959     Bigender\n",
            "983   Polygender\n",
            "987          NaN\n",
            "989      Agender\n",
            "992     Bigender\n",
            "\n",
            "[106 rows x 1 columns]\n"
          ]
        }
      ],
      "source": [
        "print(invalid_gender[['gender']])"
      ]
    },
    {
      "cell_type": "markdown",
      "metadata": {
        "id": "h-UTLdCUMs1U"
      },
      "source": [
        "### Estadisticas descriptivas por variables Numéricas"
      ]
    },
    {
      "cell_type": "markdown",
      "metadata": {
        "id": "qT80KcOlMyxI"
      },
      "source": [
        "Seleccionamos las columnas Numéricas, identificando las mismas por el tipo de dato"
      ]
    },
    {
      "cell_type": "code",
      "execution_count": 14,
      "metadata": {
        "colab": {
          "base_uri": "https://localhost:8080/"
        },
        "id": "T2yz9StzMu5r",
        "outputId": "02025a8d-cb04-4676-a995-561bf798a814"
      },
      "outputs": [
        {
          "output_type": "stream",
          "name": "stdout",
          "text": [
            "Columnas numéricas: ['student_id', 'age', 'gpa', 'attendance_rate', 'study_hours_per_week ', 'sleep_hours_per_night']\n"
          ]
        }
      ],
      "source": [
        "numericas = df.select_dtypes(include=[\"int64\", \"float64\"])\n",
        "print(\"Columnas numéricas:\", numericas.columns.tolist())"
      ]
    },
    {
      "cell_type": "markdown",
      "metadata": {
        "id": "cf9_Uj5rM1EV"
      },
      "source": [
        "Calculamos el **Desvio Estandar** de estas columnas"
      ]
    },
    {
      "cell_type": "code",
      "execution_count": 15,
      "metadata": {
        "colab": {
          "base_uri": "https://localhost:8080/"
        },
        "id": "nGzaNaXmM3bI",
        "outputId": "61902c02-979a-4ad6-89f6-5e5261576c2e"
      },
      "outputs": [
        {
          "output_type": "stream",
          "name": "stdout",
          "text": [
            "student_id               2.935483e+09\n",
            "age                      2.369226e+01\n",
            "gpa                      1.161729e+00\n",
            "attendance_rate          1.468651e+01\n",
            "study_hours_per_week     1.181829e+01\n",
            "sleep_hours_per_night    3.517193e+00\n",
            "dtype: float64\n"
          ]
        }
      ],
      "source": [
        "desvios = numericas.std()  # Desvío estándar muestral (ddof=1)\n",
        "print(desvios)"
      ]
    },
    {
      "cell_type": "markdown",
      "metadata": {
        "id": "oCVsSRFWTCaS"
      },
      "source": [
        "Calculamos la **Media**"
      ]
    },
    {
      "cell_type": "code",
      "execution_count": 16,
      "metadata": {
        "colab": {
          "base_uri": "https://localhost:8080/"
        },
        "id": "xfCfzfStTFB2",
        "outputId": "04a65027-8a14-4d63-fbda-970351ebdea4"
      },
      "outputs": [
        {
          "output_type": "stream",
          "name": "stdout",
          "text": [
            "student_id               5.017482e+09\n",
            "age                      5.914697e+01\n",
            "gpa                      1.958535e+00\n",
            "attendance_rate          7.464713e+01\n",
            "study_hours_per_week     2.037455e+01\n",
            "sleep_hours_per_night    6.535316e+00\n",
            "dtype: float64\n"
          ]
        }
      ],
      "source": [
        "media = numericas.mean()\n",
        "print(media)"
      ]
    },
    {
      "cell_type": "markdown",
      "metadata": {
        "id": "En3bqkx6TKeD"
      },
      "source": [
        "Calculamos la **Mediana**"
      ]
    },
    {
      "cell_type": "code",
      "execution_count": 17,
      "metadata": {
        "colab": {
          "base_uri": "https://localhost:8080/"
        },
        "id": "HzUXRdNPTKQF",
        "outputId": "9855b7a5-f0c1-45a9-9eeb-bbac5f4fe694"
      },
      "outputs": [
        {
          "output_type": "stream",
          "name": "stdout",
          "text": [
            "student_id               4.932404e+09\n",
            "age                      6.000000e+01\n",
            "gpa                      1.950000e+00\n",
            "attendance_rate          7.500000e+01\n",
            "study_hours_per_week     2.100000e+01\n",
            "sleep_hours_per_night    7.000000e+00\n",
            "dtype: float64\n"
          ]
        }
      ],
      "source": [
        "mediana = numericas.median()\n",
        "print(mediana)"
      ]
    },
    {
      "cell_type": "markdown",
      "metadata": {
        "id": "wqc8W5YpTQ0h"
      },
      "source": [
        "Cuenta **valores nulos** por columna"
      ]
    },
    {
      "cell_type": "code",
      "execution_count": 18,
      "metadata": {
        "colab": {
          "base_uri": "https://localhost:8080/"
        },
        "id": "GgI0gyEhTRRh",
        "outputId": "4bfaca47-1c22-4581-ad4d-a50ccc0c9a01"
      },
      "outputs": [
        {
          "output_type": "stream",
          "name": "stdout",
          "text": [
            "student_id                22\n",
            "age                       27\n",
            "gpa                       58\n",
            "attendance_rate          113\n",
            "study_hours_per_week     167\n",
            "sleep_hours_per_night    193\n",
            "dtype: int64\n"
          ]
        }
      ],
      "source": [
        "print(numericas.isnull().sum())"
      ]
    },
    {
      "cell_type": "markdown",
      "metadata": {
        "id": "kDtGOsWBTV3K"
      },
      "source": [
        "Número de **valores únicos** por columna"
      ]
    },
    {
      "cell_type": "code",
      "execution_count": 19,
      "metadata": {
        "colab": {
          "base_uri": "https://localhost:8080/"
        },
        "id": "BivPciEjTXvC",
        "outputId": "7ac23de1-7bff-4070-edc5-0daef7f1f7d4"
      },
      "outputs": [
        {
          "output_type": "stream",
          "name": "stdout",
          "text": [
            "student_id               978\n",
            "age                       82\n",
            "gpa                      360\n",
            "attendance_rate           51\n",
            "study_hours_per_week      41\n",
            "sleep_hours_per_night     12\n",
            "dtype: int64\n"
          ]
        }
      ],
      "source": [
        "print(numericas.nunique())"
      ]
    },
    {
      "cell_type": "markdown",
      "metadata": {
        "id": "1qkC85AITZ8l"
      },
      "source": [
        "Cantidad de **valores válidos sobre el total**"
      ]
    },
    {
      "cell_type": "code",
      "execution_count": 20,
      "metadata": {
        "colab": {
          "base_uri": "https://localhost:8080/"
        },
        "id": "JDUdi_qoTceB",
        "outputId": "81aa6902-3031-45f4-c459-0c6d757a9a24"
      },
      "outputs": [
        {
          "output_type": "stream",
          "name": "stdout",
          "text": [
            "student_id               0.978\n",
            "age                      0.973\n",
            "gpa                      0.942\n",
            "attendance_rate          0.887\n",
            "study_hours_per_week     0.833\n",
            "sleep_hours_per_night    0.807\n",
            "dtype: float64\n"
          ]
        }
      ],
      "source": [
        "# Total de filas incluyendo las NaN\n",
        "total = numericas.shape[0]\n",
        "\n",
        "# Conteo de valores no nulos por columna\n",
        "valores_validos = numericas.count()\n",
        "\n",
        "# Cociente\n",
        "cociente = valores_validos / total\n",
        "print(cociente)"
      ]
    },
    {
      "cell_type": "markdown",
      "metadata": {
        "id": "fPNE8M7yTJQD"
      },
      "source": [
        "### Estadisticas descriptivas por variables Categóricas\n",
        "\n"
      ]
    },
    {
      "cell_type": "code",
      "execution_count": 21,
      "metadata": {
        "colab": {
          "base_uri": "https://localhost:8080/"
        },
        "id": "hNT-5jjBTgnp",
        "outputId": "caffaa9e-5f2a-4577-d59a-a3747a1ebedf"
      },
      "outputs": [
        {
          "output_type": "stream",
          "name": "stdout",
          "text": [
            "Columnas Categoricas: ['student_ulid', 'first_name', 'last_name', 'gender', 'email', 'address ', 'phone', 'major', 'mental_health_status', 'extracurricular_participation', 'scholarship ', 'internet_access ']\n"
          ]
        }
      ],
      "source": [
        "#Analisis de columnas de variables categóricas\n",
        "\n",
        "categoricas = df.select_dtypes(include=[\"object\", \"category\", \"bool\"])\n",
        "print(\"Columnas Categoricas:\", categoricas.columns.tolist())"
      ]
    },
    {
      "cell_type": "markdown",
      "metadata": {
        "id": "SEEB2F6rTrzX"
      },
      "source": [
        "Cantidad de **valores no nulos**"
      ]
    },
    {
      "cell_type": "code",
      "execution_count": 22,
      "metadata": {
        "colab": {
          "base_uri": "https://localhost:8080/"
        },
        "id": "nI0kEwaJTsNR",
        "outputId": "450e5cfe-35ed-4b0d-fce1-3a96086246cf"
      },
      "outputs": [
        {
          "output_type": "stream",
          "name": "stdout",
          "text": [
            "student_ulid                      980\n",
            "first_name                       1000\n",
            "last_name                         969\n",
            "gender                            982\n",
            "email                             882\n",
            "address                           792\n",
            "phone                             833\n",
            "major                             967\n",
            "mental_health_status              907\n",
            "extracurricular_participation     942\n",
            "scholarship                       950\n",
            "internet_access                   906\n",
            "dtype: int64\n"
          ]
        }
      ],
      "source": [
        "print(categoricas.count())"
      ]
    },
    {
      "cell_type": "markdown",
      "metadata": {
        "id": "9UvvRLePTwrr"
      },
      "source": [
        "Cantidad de **valores nulos**"
      ]
    },
    {
      "cell_type": "code",
      "execution_count": 23,
      "metadata": {
        "colab": {
          "base_uri": "https://localhost:8080/"
        },
        "id": "wulP2vSpTzIG",
        "outputId": "a0ad64ea-20ae-4139-8a2e-213228a818da"
      },
      "outputs": [
        {
          "output_type": "stream",
          "name": "stdout",
          "text": [
            "student_ulid                      20\n",
            "first_name                         0\n",
            "last_name                         31\n",
            "gender                            18\n",
            "email                            118\n",
            "address                          208\n",
            "phone                            167\n",
            "major                             33\n",
            "mental_health_status              93\n",
            "extracurricular_participation     58\n",
            "scholarship                       50\n",
            "internet_access                   94\n",
            "dtype: int64\n"
          ]
        }
      ],
      "source": [
        "print(categoricas.isnull().sum())"
      ]
    },
    {
      "cell_type": "markdown",
      "metadata": {
        "id": "FiK5SL9ETvJJ"
      },
      "source": [
        "Cantidad de **valores válidos sobre el total**"
      ]
    },
    {
      "cell_type": "code",
      "execution_count": 24,
      "metadata": {
        "colab": {
          "base_uri": "https://localhost:8080/"
        },
        "id": "Ua714mEWTvcT",
        "outputId": "9159d4c6-d281-4ace-b718-91f7b4e69054"
      },
      "outputs": [
        {
          "output_type": "stream",
          "name": "stdout",
          "text": [
            "student_ulid                     0.980\n",
            "first_name                       1.000\n",
            "last_name                        0.969\n",
            "gender                           0.982\n",
            "email                            0.882\n",
            "address                          0.792\n",
            "phone                            0.833\n",
            "major                            0.967\n",
            "mental_health_status             0.907\n",
            "extracurricular_participation    0.942\n",
            "scholarship                      0.950\n",
            "internet_access                  0.906\n",
            "dtype: float64\n"
          ]
        }
      ],
      "source": [
        "# Total de filas incluyendo las NaN\n",
        "total = categoricas.shape[0]\n",
        "\n",
        "# Conteo de valores no nulos por columna\n",
        "valores_validos = categoricas.count()\n",
        "\n",
        "# Cociente\n",
        "cociente = valores_validos / total\n",
        "print(cociente)"
      ]
    },
    {
      "cell_type": "markdown",
      "metadata": {
        "id": "TrznDO3QT0kQ"
      },
      "source": [
        "## Conclusiones preliminares\n",
        "\n",
        "- Se identificaron valores faltantes en varias columnas, entre ellas: `email`, `phone`, `mental_health_status` y `gpa`.\n",
        "- La mayoría de las variables categóricas presentan categorías bien definidas, aunque en la variable `gender` se hallaron registros inconsistentes o mal tipificados.\n",
        "- La columna `major` contiene una amplia diversidad de carreras, con una distribución desigual entre ellas."
      ]
    }
  ],
  "metadata": {
    "colab": {
      "provenance": []
    },
    "kernelspec": {
      "display_name": "Python 3 (ipykernel)",
      "language": "python",
      "name": "python3"
    },
    "language_info": {
      "codemirror_mode": {
        "name": "ipython",
        "version": 3
      },
      "file_extension": ".py",
      "mimetype": "text/x-python",
      "name": "python",
      "nbconvert_exporter": "python",
      "pygments_lexer": "ipython3",
      "version": "3.13.3"
    }
  },
  "nbformat": 4,
  "nbformat_minor": 0
}