{
  "nbformat": 4,
  "nbformat_minor": 0,
  "metadata": {
    "colab": {
      "provenance": []
    },
    "kernelspec": {
      "name": "python3",
      "display_name": "Python 3"
    },
    "language_info": {
      "name": "python"
    }
  },
  "cells": [
    {
      "cell_type": "markdown",
      "source": [
        "## Análisis del Rendimiento Académico Estudiantil\n",
        "\n",
        "\n",
        "\n",
        "### Objetivo del análisis\n",
        "\n",
        "Este proyecto tiene como objetivo analizar distintos factores asociados al rendimiento académico de estudiantes universitarios. Se exploran variables sociodemográficas, hábitos de estudio, salud mental, acceso a recursos y desempeño en general, con el fin de identificar patrones o relaciones útiles para la toma de decisiones educativas.\n",
        "\n",
        "### Integrantes del equipo\n",
        "\n",
        "* Melania Ligorria\n",
        "* Miguel Rojas\n",
        "* Federico Córdoba\n",
        "* Adriel Delosanto\n",
        "* Florencia Andrada\n",
        "* Guadalupe Mendoza\n",
        "* Noelia Soto\n",
        "* Liliana Elizabet Lamas\n",
        "\n",
        "### Link al reporsitorio GITHUB del equipo\n",
        "\n",
        "[GitHub](https://github.com//adriel1364/Analisis_25)\n"
      ],
      "metadata": {
        "id": "wJ08LuqLHleY"
      }
    },
    {
      "cell_type": "markdown",
      "source": [
        "## IMPORTACION DE LOS DATOS\n"
      ],
      "metadata": {
        "id": "8RfHPGQaH1NB"
      }
    },
    {
      "cell_type": "markdown",
      "source": [
        "Es importante tener instaladas las librerias de Numpy y Pandas.\n",
        "La funcion read_csv de Pandas es la que permite cargar el dataframe\n"
      ],
      "metadata": {
        "id": "dVNM93uYlfvl"
      }
    },
    {
      "cell_type": "code",
      "source": [
        "import pandas as pd\n",
        "import numpy as np\n"
      ],
      "metadata": {
        "id": "CLaQMxbclkTM"
      },
      "execution_count": null,
      "outputs": []
    },
    {
      "cell_type": "markdown",
      "source": [
        "Integrar Google Drive con Colab para acceder y leer el archivo CSV almacenado en la nube."
      ],
      "metadata": {
        "id": "ybNTDVSnh7cq"
      }
    },
    {
      "cell_type": "code",
      "execution_count": null,
      "metadata": {
        "colab": {
          "base_uri": "https://localhost:8080/"
        },
        "id": "0Qu-qbyShxqq",
        "outputId": "03df8896-0c5e-40a2-897e-2e7b0f1a6e4f"
      },
      "outputs": [
        {
          "output_type": "stream",
          "name": "stdout",
          "text": [
            "Mounted at /content/drive\n"
          ]
        }
      ],
      "source": [
        "# Montar Google Drive\n",
        "from google.colab import drive\n",
        "drive.mount('/content/drive')\n",
        "\n",
        "# Leer el archivo CSV (desde Drive)\n",
        "df = pd.read_csv('/content/drive/My Drive/AnalisisdeDatosISPC2025/DataSet_Rendimiento_Estudiantes.csv')\n"
      ]
    },
    {
      "cell_type": "markdown",
      "source": [
        "## Visualización de las primeras 10 filas\n",
        "\n",
        "Incorporamos este aspecto porque mejora la visualización al presentar los datos con la estructura original del DataFrame (filas y columnas), lo que permite desplazarse de manera fluida mediante barras de scroll horizontales y verticales."
      ],
      "metadata": {
        "id": "cJG9mlO-k_cX"
      }
    },
    {
      "cell_type": "code",
      "source": [
        "df.head (10)"
      ],
      "metadata": {
        "colab": {
          "base_uri": "https://localhost:8080/",
          "height": 713
        },
        "id": "yOE3E4PHlET7",
        "outputId": "36c0b88c-2c57-4cd4-96c3-071a0b629d12"
      },
      "execution_count": null,
      "outputs": [
        {
          "output_type": "execute_result",
          "data": {
            "text/plain": [
              "                 student_ulid first_name    last_name    student_id  \\\n",
              "0  01JSJW8GB9GFDGKT3R63J7NWSM      Reeba    Francesch  2.296751e+08   \n",
              "1  01JSJW8GBCDQ03EJ7XTYD2ATTZ      Meade  Fedorchenko  9.423870e+09   \n",
              "2  01JSJW8GBEA636S3CRYQYFVM54       Elle        Slimm  5.731077e+09   \n",
              "3  01JSJW8GBF2TK2F4EEDCH3HTBY     Selena       Hugett  3.618530e+08   \n",
              "4  01JSJW8GBH5K7RE7CQW5TJRR50    Rozalin        Barks  9.074949e+09   \n",
              "5  01JSJW8GBJXN0E056TY0Q51MEQ   Richmond          NaN  3.161899e+09   \n",
              "6  01JSJW8GBMG99WH1B8RMTRK8NB     Hester       Darrel  4.283919e+09   \n",
              "7  01JSJW8GBPMFJEY0F1HAMPCQZ5    Virgina        Fitch  8.669234e+09   \n",
              "8  01JSJW8GBQ22DPE7XKE29M5EHD     Giusto        Minci  9.685291e+09   \n",
              "9  01JSJW8GBRSZ3JVG361E7V9T7J       Ruby        Dulen  2.469802e+09   \n",
              "\n",
              "        gender   age                   email              address   \\\n",
              "0  Genderqueer  58.0   rfrancesch0@state.gov        5 Coleman Hill   \n",
              "1         Male  54.0  mfedorchenko1@dell.com   75159 Mcbride Place   \n",
              "2       Female  25.0     eslimm2@gizmodo.com                   NaN   \n",
              "3       Female  86.0   shugett3@edublogs.org     3213 Heath Circle   \n",
              "4       Female  98.0          rbarks4@360.cn    86 Holmberg Street   \n",
              "5         Male  60.0          rcovert5@51.la   6676 Daystar Avenue   \n",
              "6       Female  81.0   hdarrel6@buzzfeed.com     0 Superior Circle   \n",
              "7       Female  57.0        vfitch7@yelp.com  7885 Ridge Oak Point   \n",
              "8   Polygender  75.0        gminci8@about.me      6773 Debra Trail   \n",
              "9         Male  93.0       rdulen9@hexun.com                   NaN   \n",
              "\n",
              "           phone           major   gpa  attendance_rate mental_health_status  \\\n",
              "0  (161) 8707438    Architecture  2.80             73.0                 Good   \n",
              "1  (937) 5176332             Law  1.72             63.0                 Good   \n",
              "2  (464) 6044481  Administration  0.76              NaN                  NaN   \n",
              "3  (499) 4575315     Engineering  1.52             75.0                  Bad   \n",
              "4  (964) 2462771        Medicine  3.25             75.0                  Bad   \n",
              "5  (647) 4899125         Student  3.84             73.0                 Good   \n",
              "6  (542) 7605201  Administration  1.00              NaN                  Bad   \n",
              "7            NaN      Psychology  0.70             61.0                  Bad   \n",
              "8            NaN         Student  2.72             71.0                 Good   \n",
              "9  (968) 5818592             Law  1.01             87.0              Average   \n",
              "\n",
              "   study_hours_per_week  extracurricular_participation scholarship   \\\n",
              "0                   22.0                          True        False   \n",
              "1                   30.0                          True        False   \n",
              "2                   30.0                          True         True   \n",
              "3                    NaN                          True         True   \n",
              "4                    0.0                         False         True   \n",
              "5                   14.0                          True        False   \n",
              "6                    5.0                         False        False   \n",
              "7                    NaN                         False        False   \n",
              "8                    NaN                          True        False   \n",
              "9                    9.0                         False        False   \n",
              "\n",
              "  internet_access   sleep_hours_per_night  \n",
              "0              NaN                    NaN  \n",
              "1             True                    5.0  \n",
              "2            False                   12.0  \n",
              "3             True                    9.0  \n",
              "4             True                    3.0  \n",
              "5              NaN                    3.0  \n",
              "6            False                   11.0  \n",
              "7              NaN                    NaN  \n",
              "8            False                    6.0  \n",
              "9             True                    6.0  "
            ],
            "text/html": [
              "\n",
              "  <div id=\"df-7c09bdcc-61fe-46b2-aeb4-f466b41d0be3\" class=\"colab-df-container\">\n",
              "    <div>\n",
              "<style scoped>\n",
              "    .dataframe tbody tr th:only-of-type {\n",
              "        vertical-align: middle;\n",
              "    }\n",
              "\n",
              "    .dataframe tbody tr th {\n",
              "        vertical-align: top;\n",
              "    }\n",
              "\n",
              "    .dataframe thead th {\n",
              "        text-align: right;\n",
              "    }\n",
              "</style>\n",
              "<table border=\"1\" class=\"dataframe\">\n",
              "  <thead>\n",
              "    <tr style=\"text-align: right;\">\n",
              "      <th></th>\n",
              "      <th>student_ulid</th>\n",
              "      <th>first_name</th>\n",
              "      <th>last_name</th>\n",
              "      <th>student_id</th>\n",
              "      <th>gender</th>\n",
              "      <th>age</th>\n",
              "      <th>email</th>\n",
              "      <th>address</th>\n",
              "      <th>phone</th>\n",
              "      <th>major</th>\n",
              "      <th>gpa</th>\n",
              "      <th>attendance_rate</th>\n",
              "      <th>mental_health_status</th>\n",
              "      <th>study_hours_per_week</th>\n",
              "      <th>extracurricular_participation</th>\n",
              "      <th>scholarship</th>\n",
              "      <th>internet_access</th>\n",
              "      <th>sleep_hours_per_night</th>\n",
              "    </tr>\n",
              "  </thead>\n",
              "  <tbody>\n",
              "    <tr>\n",
              "      <th>0</th>\n",
              "      <td>01JSJW8GB9GFDGKT3R63J7NWSM</td>\n",
              "      <td>Reeba</td>\n",
              "      <td>Francesch</td>\n",
              "      <td>2.296751e+08</td>\n",
              "      <td>Genderqueer</td>\n",
              "      <td>58.0</td>\n",
              "      <td>rfrancesch0@state.gov</td>\n",
              "      <td>5 Coleman Hill</td>\n",
              "      <td>(161) 8707438</td>\n",
              "      <td>Architecture</td>\n",
              "      <td>2.80</td>\n",
              "      <td>73.0</td>\n",
              "      <td>Good</td>\n",
              "      <td>22.0</td>\n",
              "      <td>True</td>\n",
              "      <td>False</td>\n",
              "      <td>NaN</td>\n",
              "      <td>NaN</td>\n",
              "    </tr>\n",
              "    <tr>\n",
              "      <th>1</th>\n",
              "      <td>01JSJW8GBCDQ03EJ7XTYD2ATTZ</td>\n",
              "      <td>Meade</td>\n",
              "      <td>Fedorchenko</td>\n",
              "      <td>9.423870e+09</td>\n",
              "      <td>Male</td>\n",
              "      <td>54.0</td>\n",
              "      <td>mfedorchenko1@dell.com</td>\n",
              "      <td>75159 Mcbride Place</td>\n",
              "      <td>(937) 5176332</td>\n",
              "      <td>Law</td>\n",
              "      <td>1.72</td>\n",
              "      <td>63.0</td>\n",
              "      <td>Good</td>\n",
              "      <td>30.0</td>\n",
              "      <td>True</td>\n",
              "      <td>False</td>\n",
              "      <td>True</td>\n",
              "      <td>5.0</td>\n",
              "    </tr>\n",
              "    <tr>\n",
              "      <th>2</th>\n",
              "      <td>01JSJW8GBEA636S3CRYQYFVM54</td>\n",
              "      <td>Elle</td>\n",
              "      <td>Slimm</td>\n",
              "      <td>5.731077e+09</td>\n",
              "      <td>Female</td>\n",
              "      <td>25.0</td>\n",
              "      <td>eslimm2@gizmodo.com</td>\n",
              "      <td>NaN</td>\n",
              "      <td>(464) 6044481</td>\n",
              "      <td>Administration</td>\n",
              "      <td>0.76</td>\n",
              "      <td>NaN</td>\n",
              "      <td>NaN</td>\n",
              "      <td>30.0</td>\n",
              "      <td>True</td>\n",
              "      <td>True</td>\n",
              "      <td>False</td>\n",
              "      <td>12.0</td>\n",
              "    </tr>\n",
              "    <tr>\n",
              "      <th>3</th>\n",
              "      <td>01JSJW8GBF2TK2F4EEDCH3HTBY</td>\n",
              "      <td>Selena</td>\n",
              "      <td>Hugett</td>\n",
              "      <td>3.618530e+08</td>\n",
              "      <td>Female</td>\n",
              "      <td>86.0</td>\n",
              "      <td>shugett3@edublogs.org</td>\n",
              "      <td>3213 Heath Circle</td>\n",
              "      <td>(499) 4575315</td>\n",
              "      <td>Engineering</td>\n",
              "      <td>1.52</td>\n",
              "      <td>75.0</td>\n",
              "      <td>Bad</td>\n",
              "      <td>NaN</td>\n",
              "      <td>True</td>\n",
              "      <td>True</td>\n",
              "      <td>True</td>\n",
              "      <td>9.0</td>\n",
              "    </tr>\n",
              "    <tr>\n",
              "      <th>4</th>\n",
              "      <td>01JSJW8GBH5K7RE7CQW5TJRR50</td>\n",
              "      <td>Rozalin</td>\n",
              "      <td>Barks</td>\n",
              "      <td>9.074949e+09</td>\n",
              "      <td>Female</td>\n",
              "      <td>98.0</td>\n",
              "      <td>rbarks4@360.cn</td>\n",
              "      <td>86 Holmberg Street</td>\n",
              "      <td>(964) 2462771</td>\n",
              "      <td>Medicine</td>\n",
              "      <td>3.25</td>\n",
              "      <td>75.0</td>\n",
              "      <td>Bad</td>\n",
              "      <td>0.0</td>\n",
              "      <td>False</td>\n",
              "      <td>True</td>\n",
              "      <td>True</td>\n",
              "      <td>3.0</td>\n",
              "    </tr>\n",
              "    <tr>\n",
              "      <th>5</th>\n",
              "      <td>01JSJW8GBJXN0E056TY0Q51MEQ</td>\n",
              "      <td>Richmond</td>\n",
              "      <td>NaN</td>\n",
              "      <td>3.161899e+09</td>\n",
              "      <td>Male</td>\n",
              "      <td>60.0</td>\n",
              "      <td>rcovert5@51.la</td>\n",
              "      <td>6676 Daystar Avenue</td>\n",
              "      <td>(647) 4899125</td>\n",
              "      <td>Student</td>\n",
              "      <td>3.84</td>\n",
              "      <td>73.0</td>\n",
              "      <td>Good</td>\n",
              "      <td>14.0</td>\n",
              "      <td>True</td>\n",
              "      <td>False</td>\n",
              "      <td>NaN</td>\n",
              "      <td>3.0</td>\n",
              "    </tr>\n",
              "    <tr>\n",
              "      <th>6</th>\n",
              "      <td>01JSJW8GBMG99WH1B8RMTRK8NB</td>\n",
              "      <td>Hester</td>\n",
              "      <td>Darrel</td>\n",
              "      <td>4.283919e+09</td>\n",
              "      <td>Female</td>\n",
              "      <td>81.0</td>\n",
              "      <td>hdarrel6@buzzfeed.com</td>\n",
              "      <td>0 Superior Circle</td>\n",
              "      <td>(542) 7605201</td>\n",
              "      <td>Administration</td>\n",
              "      <td>1.00</td>\n",
              "      <td>NaN</td>\n",
              "      <td>Bad</td>\n",
              "      <td>5.0</td>\n",
              "      <td>False</td>\n",
              "      <td>False</td>\n",
              "      <td>False</td>\n",
              "      <td>11.0</td>\n",
              "    </tr>\n",
              "    <tr>\n",
              "      <th>7</th>\n",
              "      <td>01JSJW8GBPMFJEY0F1HAMPCQZ5</td>\n",
              "      <td>Virgina</td>\n",
              "      <td>Fitch</td>\n",
              "      <td>8.669234e+09</td>\n",
              "      <td>Female</td>\n",
              "      <td>57.0</td>\n",
              "      <td>vfitch7@yelp.com</td>\n",
              "      <td>7885 Ridge Oak Point</td>\n",
              "      <td>NaN</td>\n",
              "      <td>Psychology</td>\n",
              "      <td>0.70</td>\n",
              "      <td>61.0</td>\n",
              "      <td>Bad</td>\n",
              "      <td>NaN</td>\n",
              "      <td>False</td>\n",
              "      <td>False</td>\n",
              "      <td>NaN</td>\n",
              "      <td>NaN</td>\n",
              "    </tr>\n",
              "    <tr>\n",
              "      <th>8</th>\n",
              "      <td>01JSJW8GBQ22DPE7XKE29M5EHD</td>\n",
              "      <td>Giusto</td>\n",
              "      <td>Minci</td>\n",
              "      <td>9.685291e+09</td>\n",
              "      <td>Polygender</td>\n",
              "      <td>75.0</td>\n",
              "      <td>gminci8@about.me</td>\n",
              "      <td>6773 Debra Trail</td>\n",
              "      <td>NaN</td>\n",
              "      <td>Student</td>\n",
              "      <td>2.72</td>\n",
              "      <td>71.0</td>\n",
              "      <td>Good</td>\n",
              "      <td>NaN</td>\n",
              "      <td>True</td>\n",
              "      <td>False</td>\n",
              "      <td>False</td>\n",
              "      <td>6.0</td>\n",
              "    </tr>\n",
              "    <tr>\n",
              "      <th>9</th>\n",
              "      <td>01JSJW8GBRSZ3JVG361E7V9T7J</td>\n",
              "      <td>Ruby</td>\n",
              "      <td>Dulen</td>\n",
              "      <td>2.469802e+09</td>\n",
              "      <td>Male</td>\n",
              "      <td>93.0</td>\n",
              "      <td>rdulen9@hexun.com</td>\n",
              "      <td>NaN</td>\n",
              "      <td>(968) 5818592</td>\n",
              "      <td>Law</td>\n",
              "      <td>1.01</td>\n",
              "      <td>87.0</td>\n",
              "      <td>Average</td>\n",
              "      <td>9.0</td>\n",
              "      <td>False</td>\n",
              "      <td>False</td>\n",
              "      <td>True</td>\n",
              "      <td>6.0</td>\n",
              "    </tr>\n",
              "  </tbody>\n",
              "</table>\n",
              "</div>\n",
              "    <div class=\"colab-df-buttons\">\n",
              "\n",
              "  <div class=\"colab-df-container\">\n",
              "    <button class=\"colab-df-convert\" onclick=\"convertToInteractive('df-7c09bdcc-61fe-46b2-aeb4-f466b41d0be3')\"\n",
              "            title=\"Convert this dataframe to an interactive table.\"\n",
              "            style=\"display:none;\">\n",
              "\n",
              "  <svg xmlns=\"http://www.w3.org/2000/svg\" height=\"24px\" viewBox=\"0 -960 960 960\">\n",
              "    <path d=\"M120-120v-720h720v720H120Zm60-500h600v-160H180v160Zm220 220h160v-160H400v160Zm0 220h160v-160H400v160ZM180-400h160v-160H180v160Zm440 0h160v-160H620v160ZM180-180h160v-160H180v160Zm440 0h160v-160H620v160Z\"/>\n",
              "  </svg>\n",
              "    </button>\n",
              "\n",
              "  <style>\n",
              "    .colab-df-container {\n",
              "      display:flex;\n",
              "      gap: 12px;\n",
              "    }\n",
              "\n",
              "    .colab-df-convert {\n",
              "      background-color: #E8F0FE;\n",
              "      border: none;\n",
              "      border-radius: 50%;\n",
              "      cursor: pointer;\n",
              "      display: none;\n",
              "      fill: #1967D2;\n",
              "      height: 32px;\n",
              "      padding: 0 0 0 0;\n",
              "      width: 32px;\n",
              "    }\n",
              "\n",
              "    .colab-df-convert:hover {\n",
              "      background-color: #E2EBFA;\n",
              "      box-shadow: 0px 1px 2px rgba(60, 64, 67, 0.3), 0px 1px 3px 1px rgba(60, 64, 67, 0.15);\n",
              "      fill: #174EA6;\n",
              "    }\n",
              "\n",
              "    .colab-df-buttons div {\n",
              "      margin-bottom: 4px;\n",
              "    }\n",
              "\n",
              "    [theme=dark] .colab-df-convert {\n",
              "      background-color: #3B4455;\n",
              "      fill: #D2E3FC;\n",
              "    }\n",
              "\n",
              "    [theme=dark] .colab-df-convert:hover {\n",
              "      background-color: #434B5C;\n",
              "      box-shadow: 0px 1px 3px 1px rgba(0, 0, 0, 0.15);\n",
              "      filter: drop-shadow(0px 1px 2px rgba(0, 0, 0, 0.3));\n",
              "      fill: #FFFFFF;\n",
              "    }\n",
              "  </style>\n",
              "\n",
              "    <script>\n",
              "      const buttonEl =\n",
              "        document.querySelector('#df-7c09bdcc-61fe-46b2-aeb4-f466b41d0be3 button.colab-df-convert');\n",
              "      buttonEl.style.display =\n",
              "        google.colab.kernel.accessAllowed ? 'block' : 'none';\n",
              "\n",
              "      async function convertToInteractive(key) {\n",
              "        const element = document.querySelector('#df-7c09bdcc-61fe-46b2-aeb4-f466b41d0be3');\n",
              "        const dataTable =\n",
              "          await google.colab.kernel.invokeFunction('convertToInteractive',\n",
              "                                                    [key], {});\n",
              "        if (!dataTable) return;\n",
              "\n",
              "        const docLinkHtml = 'Like what you see? Visit the ' +\n",
              "          '<a target=\"_blank\" href=https://colab.research.google.com/notebooks/data_table.ipynb>data table notebook</a>'\n",
              "          + ' to learn more about interactive tables.';\n",
              "        element.innerHTML = '';\n",
              "        dataTable['output_type'] = 'display_data';\n",
              "        await google.colab.output.renderOutput(dataTable, element);\n",
              "        const docLink = document.createElement('div');\n",
              "        docLink.innerHTML = docLinkHtml;\n",
              "        element.appendChild(docLink);\n",
              "      }\n",
              "    </script>\n",
              "  </div>\n",
              "\n",
              "\n",
              "    <div id=\"df-c5acb4be-3c2d-4e9c-b90b-32be358b6c14\">\n",
              "      <button class=\"colab-df-quickchart\" onclick=\"quickchart('df-c5acb4be-3c2d-4e9c-b90b-32be358b6c14')\"\n",
              "                title=\"Suggest charts\"\n",
              "                style=\"display:none;\">\n",
              "\n",
              "<svg xmlns=\"http://www.w3.org/2000/svg\" height=\"24px\"viewBox=\"0 0 24 24\"\n",
              "     width=\"24px\">\n",
              "    <g>\n",
              "        <path d=\"M19 3H5c-1.1 0-2 .9-2 2v14c0 1.1.9 2 2 2h14c1.1 0 2-.9 2-2V5c0-1.1-.9-2-2-2zM9 17H7v-7h2v7zm4 0h-2V7h2v10zm4 0h-2v-4h2v4z\"/>\n",
              "    </g>\n",
              "</svg>\n",
              "      </button>\n",
              "\n",
              "<style>\n",
              "  .colab-df-quickchart {\n",
              "      --bg-color: #E8F0FE;\n",
              "      --fill-color: #1967D2;\n",
              "      --hover-bg-color: #E2EBFA;\n",
              "      --hover-fill-color: #174EA6;\n",
              "      --disabled-fill-color: #AAA;\n",
              "      --disabled-bg-color: #DDD;\n",
              "  }\n",
              "\n",
              "  [theme=dark] .colab-df-quickchart {\n",
              "      --bg-color: #3B4455;\n",
              "      --fill-color: #D2E3FC;\n",
              "      --hover-bg-color: #434B5C;\n",
              "      --hover-fill-color: #FFFFFF;\n",
              "      --disabled-bg-color: #3B4455;\n",
              "      --disabled-fill-color: #666;\n",
              "  }\n",
              "\n",
              "  .colab-df-quickchart {\n",
              "    background-color: var(--bg-color);\n",
              "    border: none;\n",
              "    border-radius: 50%;\n",
              "    cursor: pointer;\n",
              "    display: none;\n",
              "    fill: var(--fill-color);\n",
              "    height: 32px;\n",
              "    padding: 0;\n",
              "    width: 32px;\n",
              "  }\n",
              "\n",
              "  .colab-df-quickchart:hover {\n",
              "    background-color: var(--hover-bg-color);\n",
              "    box-shadow: 0 1px 2px rgba(60, 64, 67, 0.3), 0 1px 3px 1px rgba(60, 64, 67, 0.15);\n",
              "    fill: var(--button-hover-fill-color);\n",
              "  }\n",
              "\n",
              "  .colab-df-quickchart-complete:disabled,\n",
              "  .colab-df-quickchart-complete:disabled:hover {\n",
              "    background-color: var(--disabled-bg-color);\n",
              "    fill: var(--disabled-fill-color);\n",
              "    box-shadow: none;\n",
              "  }\n",
              "\n",
              "  .colab-df-spinner {\n",
              "    border: 2px solid var(--fill-color);\n",
              "    border-color: transparent;\n",
              "    border-bottom-color: var(--fill-color);\n",
              "    animation:\n",
              "      spin 1s steps(1) infinite;\n",
              "  }\n",
              "\n",
              "  @keyframes spin {\n",
              "    0% {\n",
              "      border-color: transparent;\n",
              "      border-bottom-color: var(--fill-color);\n",
              "      border-left-color: var(--fill-color);\n",
              "    }\n",
              "    20% {\n",
              "      border-color: transparent;\n",
              "      border-left-color: var(--fill-color);\n",
              "      border-top-color: var(--fill-color);\n",
              "    }\n",
              "    30% {\n",
              "      border-color: transparent;\n",
              "      border-left-color: var(--fill-color);\n",
              "      border-top-color: var(--fill-color);\n",
              "      border-right-color: var(--fill-color);\n",
              "    }\n",
              "    40% {\n",
              "      border-color: transparent;\n",
              "      border-right-color: var(--fill-color);\n",
              "      border-top-color: var(--fill-color);\n",
              "    }\n",
              "    60% {\n",
              "      border-color: transparent;\n",
              "      border-right-color: var(--fill-color);\n",
              "    }\n",
              "    80% {\n",
              "      border-color: transparent;\n",
              "      border-right-color: var(--fill-color);\n",
              "      border-bottom-color: var(--fill-color);\n",
              "    }\n",
              "    90% {\n",
              "      border-color: transparent;\n",
              "      border-bottom-color: var(--fill-color);\n",
              "    }\n",
              "  }\n",
              "</style>\n",
              "\n",
              "      <script>\n",
              "        async function quickchart(key) {\n",
              "          const quickchartButtonEl =\n",
              "            document.querySelector('#' + key + ' button');\n",
              "          quickchartButtonEl.disabled = true;  // To prevent multiple clicks.\n",
              "          quickchartButtonEl.classList.add('colab-df-spinner');\n",
              "          try {\n",
              "            const charts = await google.colab.kernel.invokeFunction(\n",
              "                'suggestCharts', [key], {});\n",
              "          } catch (error) {\n",
              "            console.error('Error during call to suggestCharts:', error);\n",
              "          }\n",
              "          quickchartButtonEl.classList.remove('colab-df-spinner');\n",
              "          quickchartButtonEl.classList.add('colab-df-quickchart-complete');\n",
              "        }\n",
              "        (() => {\n",
              "          let quickchartButtonEl =\n",
              "            document.querySelector('#df-c5acb4be-3c2d-4e9c-b90b-32be358b6c14 button');\n",
              "          quickchartButtonEl.style.display =\n",
              "            google.colab.kernel.accessAllowed ? 'block' : 'none';\n",
              "        })();\n",
              "      </script>\n",
              "    </div>\n",
              "\n",
              "    </div>\n",
              "  </div>\n"
            ],
            "application/vnd.google.colaboratory.intrinsic+json": {
              "type": "dataframe",
              "summary": "{\n  \"name\": \"df\",\n  \"rows\": 10,\n  \"fields\": [\n    {\n      \"column\": \"student_ulid\",\n      \"properties\": {\n        \"dtype\": \"string\",\n        \"num_unique_values\": 10,\n        \"samples\": [\n          \"01JSJW8GBQ22DPE7XKE29M5EHD\",\n          \"01JSJW8GBCDQ03EJ7XTYD2ATTZ\",\n          \"01JSJW8GBJXN0E056TY0Q51MEQ\"\n        ],\n        \"semantic_type\": \"\",\n        \"description\": \"\"\n      }\n    },\n    {\n      \"column\": \"first_name\",\n      \"properties\": {\n        \"dtype\": \"string\",\n        \"num_unique_values\": 10,\n        \"samples\": [\n          \"Giusto\",\n          \"Meade\",\n          \"Richmond\"\n        ],\n        \"semantic_type\": \"\",\n        \"description\": \"\"\n      }\n    },\n    {\n      \"column\": \"last_name\",\n      \"properties\": {\n        \"dtype\": \"string\",\n        \"num_unique_values\": 9,\n        \"samples\": [\n          \"Minci\",\n          \"Fedorchenko\",\n          \"Darrel\"\n        ],\n        \"semantic_type\": \"\",\n        \"description\": \"\"\n      }\n    },\n    {\n      \"column\": \"student_id\",\n      \"properties\": {\n        \"dtype\": \"number\",\n        \"std\": 3737668001.6077604,\n        \"min\": 229675123.0,\n        \"max\": 9685290962.0,\n        \"num_unique_values\": 10,\n        \"samples\": [\n          9685290962.0,\n          9423869955.0,\n          3161899121.0\n        ],\n        \"semantic_type\": \"\",\n        \"description\": \"\"\n      }\n    },\n    {\n      \"column\": \"gender\",\n      \"properties\": {\n        \"dtype\": \"category\",\n        \"num_unique_values\": 4,\n        \"samples\": [\n          \"Male\",\n          \"Polygender\",\n          \"Genderqueer\"\n        ],\n        \"semantic_type\": \"\",\n        \"description\": \"\"\n      }\n    },\n    {\n      \"column\": \"age\",\n      \"properties\": {\n        \"dtype\": \"number\",\n        \"std\": 22.09097352112648,\n        \"min\": 25.0,\n        \"max\": 98.0,\n        \"num_unique_values\": 10,\n        \"samples\": [\n          75.0,\n          54.0,\n          60.0\n        ],\n        \"semantic_type\": \"\",\n        \"description\": \"\"\n      }\n    },\n    {\n      \"column\": \"email\",\n      \"properties\": {\n        \"dtype\": \"string\",\n        \"num_unique_values\": 10,\n        \"samples\": [\n          \"gminci8@about.me\",\n          \"mfedorchenko1@dell.com\",\n          \"rcovert5@51.la\"\n        ],\n        \"semantic_type\": \"\",\n        \"description\": \"\"\n      }\n    },\n    {\n      \"column\": \"address \",\n      \"properties\": {\n        \"dtype\": \"string\",\n        \"num_unique_values\": 8,\n        \"samples\": [\n          \"75159 Mcbride Place\",\n          \"0 Superior Circle\",\n          \"5 Coleman Hill\"\n        ],\n        \"semantic_type\": \"\",\n        \"description\": \"\"\n      }\n    },\n    {\n      \"column\": \"phone\",\n      \"properties\": {\n        \"dtype\": \"string\",\n        \"num_unique_values\": 8,\n        \"samples\": [\n          \"(937) 5176332\",\n          \"(647) 4899125\",\n          \"(161) 8707438\"\n        ],\n        \"semantic_type\": \"\",\n        \"description\": \"\"\n      }\n    },\n    {\n      \"column\": \"major\",\n      \"properties\": {\n        \"dtype\": \"string\",\n        \"num_unique_values\": 7,\n        \"samples\": [\n          \"Architecture\",\n          \"Law\",\n          \"Student\"\n        ],\n        \"semantic_type\": \"\",\n        \"description\": \"\"\n      }\n    },\n    {\n      \"column\": \"gpa\",\n      \"properties\": {\n        \"dtype\": \"number\",\n        \"std\": 1.1341546043933635,\n        \"min\": 0.7,\n        \"max\": 3.84,\n        \"num_unique_values\": 10,\n        \"samples\": [\n          2.72,\n          1.72,\n          3.84\n        ],\n        \"semantic_type\": \"\",\n        \"description\": \"\"\n      }\n    },\n    {\n      \"column\": \"attendance_rate\",\n      \"properties\": {\n        \"dtype\": \"number\",\n        \"std\": 7.995534467974697,\n        \"min\": 61.0,\n        \"max\": 87.0,\n        \"num_unique_values\": 6,\n        \"samples\": [\n          73.0,\n          63.0,\n          87.0\n        ],\n        \"semantic_type\": \"\",\n        \"description\": \"\"\n      }\n    },\n    {\n      \"column\": \"mental_health_status\",\n      \"properties\": {\n        \"dtype\": \"category\",\n        \"num_unique_values\": 3,\n        \"samples\": [\n          \"Good\",\n          \"Bad\",\n          \"Average\"\n        ],\n        \"semantic_type\": \"\",\n        \"description\": \"\"\n      }\n    },\n    {\n      \"column\": \"study_hours_per_week \",\n      \"properties\": {\n        \"dtype\": \"number\",\n        \"std\": 11.95427797504985,\n        \"min\": 0.0,\n        \"max\": 30.0,\n        \"num_unique_values\": 6,\n        \"samples\": [\n          22.0,\n          30.0,\n          9.0\n        ],\n        \"semantic_type\": \"\",\n        \"description\": \"\"\n      }\n    },\n    {\n      \"column\": \"extracurricular_participation\",\n      \"properties\": {\n        \"dtype\": \"category\",\n        \"num_unique_values\": 2,\n        \"samples\": [\n          false,\n          true\n        ],\n        \"semantic_type\": \"\",\n        \"description\": \"\"\n      }\n    },\n    {\n      \"column\": \"scholarship \",\n      \"properties\": {\n        \"dtype\": \"category\",\n        \"num_unique_values\": 2,\n        \"samples\": [\n          true,\n          false\n        ],\n        \"semantic_type\": \"\",\n        \"description\": \"\"\n      }\n    },\n    {\n      \"column\": \"internet_access \",\n      \"properties\": {\n        \"dtype\": \"category\",\n        \"num_unique_values\": 2,\n        \"samples\": [\n          false,\n          true\n        ],\n        \"semantic_type\": \"\",\n        \"description\": \"\"\n      }\n    },\n    {\n      \"column\": \"sleep_hours_per_night\",\n      \"properties\": {\n        \"dtype\": \"number\",\n        \"std\": 3.440826312717007,\n        \"min\": 3.0,\n        \"max\": 12.0,\n        \"num_unique_values\": 6,\n        \"samples\": [\n          5.0,\n          12.0\n        ],\n        \"semantic_type\": \"\",\n        \"description\": \"\"\n      }\n    }\n  ]\n}"
            }
          },
          "metadata": {},
          "execution_count": 4
        }
      ]
    },
    {
      "cell_type": "markdown",
      "source": [
        "# Descripcion General de DataSet"
      ],
      "metadata": {
        "id": "sU8ugr4-KSav"
      }
    },
    {
      "cell_type": "markdown",
      "source": [
        "##Observaciones iniciales del dataset\n",
        "\n",
        "El dataset contiene 18 columnas y 1000 registros.\n",
        "Tipos de datos: 6 columnas numéricas, 12 categóricas.\n",
        "\n",
        "Las columnas incluyen:\n",
        "\n",
        "- Identificadores únicos (`student_ulid`, `student_id`)\n",
        "- Datos personales (`first_name`, `last_name`, `gender`, `age`, `email`, `address`, `phone`)\n",
        "- Variables académicas (`major`, `gpa`, `attendance_rate`, `study_hours_per_week`)\n",
        "- Información contextual o complementaria (`mental_health_status`, `extracurricular_participation`, `scholarship`, `internet_access`, `sleep_hours_per_night`)\n",
        "\n",
        "Los tipos de datos incluyen:\n",
        "- **Strings**: nombres, género, email, dirección, carrera.\n",
        "- **Numéricos**: edad, GPA, asistencia, horas de estudio y sueño.\n",
        "- **Booleanos**: participación extracurricular, beca, acceso a internet.\n",
        "- Algunas columnas contienen valores faltantes, los cuales se deberán tener en cuenta durante la limpieza y análisis del dataset."
      ],
      "metadata": {
        "id": "j_iE3zzDKdYS"
      }
    },
    {
      "cell_type": "markdown",
      "source": [
        "## Informacion General del DataSet"
      ],
      "metadata": {
        "id": "JZDB3wAELlIw"
      }
    },
    {
      "cell_type": "markdown",
      "source": [
        "### Muestra tipos de datos y analisis exploratorio del DF\n",
        "\n"
      ],
      "metadata": {
        "id": "47sRYRpfL-Rq"
      }
    },
    {
      "cell_type": "code",
      "source": [
        "df.info()"
      ],
      "metadata": {
        "colab": {
          "base_uri": "https://localhost:8080/"
        },
        "id": "_8DRHpell4h0",
        "outputId": "8d3bbbdc-545f-4336-cb42-9e0f8424e3f0"
      },
      "execution_count": null,
      "outputs": [
        {
          "output_type": "stream",
          "name": "stdout",
          "text": [
            "<class 'pandas.core.frame.DataFrame'>\n",
            "RangeIndex: 1000 entries, 0 to 999\n",
            "Data columns (total 18 columns):\n",
            " #   Column                         Non-Null Count  Dtype  \n",
            "---  ------                         --------------  -----  \n",
            " 0   student_ulid                   980 non-null    object \n",
            " 1   first_name                     1000 non-null   object \n",
            " 2   last_name                      969 non-null    object \n",
            " 3   student_id                     978 non-null    float64\n",
            " 4   gender                         982 non-null    object \n",
            " 5   age                            973 non-null    float64\n",
            " 6   email                          882 non-null    object \n",
            " 7   address                        792 non-null    object \n",
            " 8   phone                          833 non-null    object \n",
            " 9   major                          967 non-null    object \n",
            " 10  gpa                            942 non-null    float64\n",
            " 11  attendance_rate                887 non-null    float64\n",
            " 12  mental_health_status           907 non-null    object \n",
            " 13  study_hours_per_week           833 non-null    float64\n",
            " 14  extracurricular_participation  942 non-null    object \n",
            " 15  scholarship                    950 non-null    object \n",
            " 16  internet_access                906 non-null    object \n",
            " 17  sleep_hours_per_night          807 non-null    float64\n",
            "dtypes: float64(6), object(12)\n",
            "memory usage: 140.8+ KB\n"
          ]
        }
      ]
    },
    {
      "cell_type": "markdown",
      "source": [
        "Análisis rápido de distribuciones"
      ],
      "metadata": {
        "id": "6FwXfqtMSnNE"
      }
    },
    {
      "cell_type": "code",
      "source": [
        "df.describe()"
      ],
      "metadata": {
        "colab": {
          "base_uri": "https://localhost:8080/",
          "height": 311
        },
        "id": "GCh5pIRsmBfI",
        "outputId": "388a637d-03f9-40d9-e39f-809c8a893224"
      },
      "execution_count": null,
      "outputs": [
        {
          "output_type": "execute_result",
          "data": {
            "text/plain": [
              "         student_id         age         gpa  attendance_rate  \\\n",
              "count  9.780000e+02  973.000000  942.000000       887.000000   \n",
              "mean   5.017482e+09   59.146968    1.958535        74.647125   \n",
              "std    2.935483e+09   23.692257    1.161729        14.686512   \n",
              "min    2.402818e+07   18.000000    0.000000        50.000000   \n",
              "25%    2.465493e+09   39.000000    0.960000        62.000000   \n",
              "50%    4.932404e+09   60.000000    1.950000        75.000000   \n",
              "75%    7.652283e+09   79.000000    2.987500        87.000000   \n",
              "max    9.993930e+09   99.000000    4.000000       100.000000   \n",
              "\n",
              "       study_hours_per_week   sleep_hours_per_night  \n",
              "count             833.000000             807.000000  \n",
              "mean               20.374550               6.535316  \n",
              "std                11.818293               3.517193  \n",
              "min                 0.000000               1.000000  \n",
              "25%                10.000000               3.000000  \n",
              "50%                21.000000               7.000000  \n",
              "75%                30.000000              10.000000  \n",
              "max                40.000000              12.000000  "
            ],
            "text/html": [
              "\n",
              "  <div id=\"df-ac9e486b-6274-4111-853b-ea1922a13423\" class=\"colab-df-container\">\n",
              "    <div>\n",
              "<style scoped>\n",
              "    .dataframe tbody tr th:only-of-type {\n",
              "        vertical-align: middle;\n",
              "    }\n",
              "\n",
              "    .dataframe tbody tr th {\n",
              "        vertical-align: top;\n",
              "    }\n",
              "\n",
              "    .dataframe thead th {\n",
              "        text-align: right;\n",
              "    }\n",
              "</style>\n",
              "<table border=\"1\" class=\"dataframe\">\n",
              "  <thead>\n",
              "    <tr style=\"text-align: right;\">\n",
              "      <th></th>\n",
              "      <th>student_id</th>\n",
              "      <th>age</th>\n",
              "      <th>gpa</th>\n",
              "      <th>attendance_rate</th>\n",
              "      <th>study_hours_per_week</th>\n",
              "      <th>sleep_hours_per_night</th>\n",
              "    </tr>\n",
              "  </thead>\n",
              "  <tbody>\n",
              "    <tr>\n",
              "      <th>count</th>\n",
              "      <td>9.780000e+02</td>\n",
              "      <td>973.000000</td>\n",
              "      <td>942.000000</td>\n",
              "      <td>887.000000</td>\n",
              "      <td>833.000000</td>\n",
              "      <td>807.000000</td>\n",
              "    </tr>\n",
              "    <tr>\n",
              "      <th>mean</th>\n",
              "      <td>5.017482e+09</td>\n",
              "      <td>59.146968</td>\n",
              "      <td>1.958535</td>\n",
              "      <td>74.647125</td>\n",
              "      <td>20.374550</td>\n",
              "      <td>6.535316</td>\n",
              "    </tr>\n",
              "    <tr>\n",
              "      <th>std</th>\n",
              "      <td>2.935483e+09</td>\n",
              "      <td>23.692257</td>\n",
              "      <td>1.161729</td>\n",
              "      <td>14.686512</td>\n",
              "      <td>11.818293</td>\n",
              "      <td>3.517193</td>\n",
              "    </tr>\n",
              "    <tr>\n",
              "      <th>min</th>\n",
              "      <td>2.402818e+07</td>\n",
              "      <td>18.000000</td>\n",
              "      <td>0.000000</td>\n",
              "      <td>50.000000</td>\n",
              "      <td>0.000000</td>\n",
              "      <td>1.000000</td>\n",
              "    </tr>\n",
              "    <tr>\n",
              "      <th>25%</th>\n",
              "      <td>2.465493e+09</td>\n",
              "      <td>39.000000</td>\n",
              "      <td>0.960000</td>\n",
              "      <td>62.000000</td>\n",
              "      <td>10.000000</td>\n",
              "      <td>3.000000</td>\n",
              "    </tr>\n",
              "    <tr>\n",
              "      <th>50%</th>\n",
              "      <td>4.932404e+09</td>\n",
              "      <td>60.000000</td>\n",
              "      <td>1.950000</td>\n",
              "      <td>75.000000</td>\n",
              "      <td>21.000000</td>\n",
              "      <td>7.000000</td>\n",
              "    </tr>\n",
              "    <tr>\n",
              "      <th>75%</th>\n",
              "      <td>7.652283e+09</td>\n",
              "      <td>79.000000</td>\n",
              "      <td>2.987500</td>\n",
              "      <td>87.000000</td>\n",
              "      <td>30.000000</td>\n",
              "      <td>10.000000</td>\n",
              "    </tr>\n",
              "    <tr>\n",
              "      <th>max</th>\n",
              "      <td>9.993930e+09</td>\n",
              "      <td>99.000000</td>\n",
              "      <td>4.000000</td>\n",
              "      <td>100.000000</td>\n",
              "      <td>40.000000</td>\n",
              "      <td>12.000000</td>\n",
              "    </tr>\n",
              "  </tbody>\n",
              "</table>\n",
              "</div>\n",
              "    <div class=\"colab-df-buttons\">\n",
              "\n",
              "  <div class=\"colab-df-container\">\n",
              "    <button class=\"colab-df-convert\" onclick=\"convertToInteractive('df-ac9e486b-6274-4111-853b-ea1922a13423')\"\n",
              "            title=\"Convert this dataframe to an interactive table.\"\n",
              "            style=\"display:none;\">\n",
              "\n",
              "  <svg xmlns=\"http://www.w3.org/2000/svg\" height=\"24px\" viewBox=\"0 -960 960 960\">\n",
              "    <path d=\"M120-120v-720h720v720H120Zm60-500h600v-160H180v160Zm220 220h160v-160H400v160Zm0 220h160v-160H400v160ZM180-400h160v-160H180v160Zm440 0h160v-160H620v160ZM180-180h160v-160H180v160Zm440 0h160v-160H620v160Z\"/>\n",
              "  </svg>\n",
              "    </button>\n",
              "\n",
              "  <style>\n",
              "    .colab-df-container {\n",
              "      display:flex;\n",
              "      gap: 12px;\n",
              "    }\n",
              "\n",
              "    .colab-df-convert {\n",
              "      background-color: #E8F0FE;\n",
              "      border: none;\n",
              "      border-radius: 50%;\n",
              "      cursor: pointer;\n",
              "      display: none;\n",
              "      fill: #1967D2;\n",
              "      height: 32px;\n",
              "      padding: 0 0 0 0;\n",
              "      width: 32px;\n",
              "    }\n",
              "\n",
              "    .colab-df-convert:hover {\n",
              "      background-color: #E2EBFA;\n",
              "      box-shadow: 0px 1px 2px rgba(60, 64, 67, 0.3), 0px 1px 3px 1px rgba(60, 64, 67, 0.15);\n",
              "      fill: #174EA6;\n",
              "    }\n",
              "\n",
              "    .colab-df-buttons div {\n",
              "      margin-bottom: 4px;\n",
              "    }\n",
              "\n",
              "    [theme=dark] .colab-df-convert {\n",
              "      background-color: #3B4455;\n",
              "      fill: #D2E3FC;\n",
              "    }\n",
              "\n",
              "    [theme=dark] .colab-df-convert:hover {\n",
              "      background-color: #434B5C;\n",
              "      box-shadow: 0px 1px 3px 1px rgba(0, 0, 0, 0.15);\n",
              "      filter: drop-shadow(0px 1px 2px rgba(0, 0, 0, 0.3));\n",
              "      fill: #FFFFFF;\n",
              "    }\n",
              "  </style>\n",
              "\n",
              "    <script>\n",
              "      const buttonEl =\n",
              "        document.querySelector('#df-ac9e486b-6274-4111-853b-ea1922a13423 button.colab-df-convert');\n",
              "      buttonEl.style.display =\n",
              "        google.colab.kernel.accessAllowed ? 'block' : 'none';\n",
              "\n",
              "      async function convertToInteractive(key) {\n",
              "        const element = document.querySelector('#df-ac9e486b-6274-4111-853b-ea1922a13423');\n",
              "        const dataTable =\n",
              "          await google.colab.kernel.invokeFunction('convertToInteractive',\n",
              "                                                    [key], {});\n",
              "        if (!dataTable) return;\n",
              "\n",
              "        const docLinkHtml = 'Like what you see? Visit the ' +\n",
              "          '<a target=\"_blank\" href=https://colab.research.google.com/notebooks/data_table.ipynb>data table notebook</a>'\n",
              "          + ' to learn more about interactive tables.';\n",
              "        element.innerHTML = '';\n",
              "        dataTable['output_type'] = 'display_data';\n",
              "        await google.colab.output.renderOutput(dataTable, element);\n",
              "        const docLink = document.createElement('div');\n",
              "        docLink.innerHTML = docLinkHtml;\n",
              "        element.appendChild(docLink);\n",
              "      }\n",
              "    </script>\n",
              "  </div>\n",
              "\n",
              "\n",
              "    <div id=\"df-432bc771-b053-4bde-b19d-a8e4b5a5f007\">\n",
              "      <button class=\"colab-df-quickchart\" onclick=\"quickchart('df-432bc771-b053-4bde-b19d-a8e4b5a5f007')\"\n",
              "                title=\"Suggest charts\"\n",
              "                style=\"display:none;\">\n",
              "\n",
              "<svg xmlns=\"http://www.w3.org/2000/svg\" height=\"24px\"viewBox=\"0 0 24 24\"\n",
              "     width=\"24px\">\n",
              "    <g>\n",
              "        <path d=\"M19 3H5c-1.1 0-2 .9-2 2v14c0 1.1.9 2 2 2h14c1.1 0 2-.9 2-2V5c0-1.1-.9-2-2-2zM9 17H7v-7h2v7zm4 0h-2V7h2v10zm4 0h-2v-4h2v4z\"/>\n",
              "    </g>\n",
              "</svg>\n",
              "      </button>\n",
              "\n",
              "<style>\n",
              "  .colab-df-quickchart {\n",
              "      --bg-color: #E8F0FE;\n",
              "      --fill-color: #1967D2;\n",
              "      --hover-bg-color: #E2EBFA;\n",
              "      --hover-fill-color: #174EA6;\n",
              "      --disabled-fill-color: #AAA;\n",
              "      --disabled-bg-color: #DDD;\n",
              "  }\n",
              "\n",
              "  [theme=dark] .colab-df-quickchart {\n",
              "      --bg-color: #3B4455;\n",
              "      --fill-color: #D2E3FC;\n",
              "      --hover-bg-color: #434B5C;\n",
              "      --hover-fill-color: #FFFFFF;\n",
              "      --disabled-bg-color: #3B4455;\n",
              "      --disabled-fill-color: #666;\n",
              "  }\n",
              "\n",
              "  .colab-df-quickchart {\n",
              "    background-color: var(--bg-color);\n",
              "    border: none;\n",
              "    border-radius: 50%;\n",
              "    cursor: pointer;\n",
              "    display: none;\n",
              "    fill: var(--fill-color);\n",
              "    height: 32px;\n",
              "    padding: 0;\n",
              "    width: 32px;\n",
              "  }\n",
              "\n",
              "  .colab-df-quickchart:hover {\n",
              "    background-color: var(--hover-bg-color);\n",
              "    box-shadow: 0 1px 2px rgba(60, 64, 67, 0.3), 0 1px 3px 1px rgba(60, 64, 67, 0.15);\n",
              "    fill: var(--button-hover-fill-color);\n",
              "  }\n",
              "\n",
              "  .colab-df-quickchart-complete:disabled,\n",
              "  .colab-df-quickchart-complete:disabled:hover {\n",
              "    background-color: var(--disabled-bg-color);\n",
              "    fill: var(--disabled-fill-color);\n",
              "    box-shadow: none;\n",
              "  }\n",
              "\n",
              "  .colab-df-spinner {\n",
              "    border: 2px solid var(--fill-color);\n",
              "    border-color: transparent;\n",
              "    border-bottom-color: var(--fill-color);\n",
              "    animation:\n",
              "      spin 1s steps(1) infinite;\n",
              "  }\n",
              "\n",
              "  @keyframes spin {\n",
              "    0% {\n",
              "      border-color: transparent;\n",
              "      border-bottom-color: var(--fill-color);\n",
              "      border-left-color: var(--fill-color);\n",
              "    }\n",
              "    20% {\n",
              "      border-color: transparent;\n",
              "      border-left-color: var(--fill-color);\n",
              "      border-top-color: var(--fill-color);\n",
              "    }\n",
              "    30% {\n",
              "      border-color: transparent;\n",
              "      border-left-color: var(--fill-color);\n",
              "      border-top-color: var(--fill-color);\n",
              "      border-right-color: var(--fill-color);\n",
              "    }\n",
              "    40% {\n",
              "      border-color: transparent;\n",
              "      border-right-color: var(--fill-color);\n",
              "      border-top-color: var(--fill-color);\n",
              "    }\n",
              "    60% {\n",
              "      border-color: transparent;\n",
              "      border-right-color: var(--fill-color);\n",
              "    }\n",
              "    80% {\n",
              "      border-color: transparent;\n",
              "      border-right-color: var(--fill-color);\n",
              "      border-bottom-color: var(--fill-color);\n",
              "    }\n",
              "    90% {\n",
              "      border-color: transparent;\n",
              "      border-bottom-color: var(--fill-color);\n",
              "    }\n",
              "  }\n",
              "</style>\n",
              "\n",
              "      <script>\n",
              "        async function quickchart(key) {\n",
              "          const quickchartButtonEl =\n",
              "            document.querySelector('#' + key + ' button');\n",
              "          quickchartButtonEl.disabled = true;  // To prevent multiple clicks.\n",
              "          quickchartButtonEl.classList.add('colab-df-spinner');\n",
              "          try {\n",
              "            const charts = await google.colab.kernel.invokeFunction(\n",
              "                'suggestCharts', [key], {});\n",
              "          } catch (error) {\n",
              "            console.error('Error during call to suggestCharts:', error);\n",
              "          }\n",
              "          quickchartButtonEl.classList.remove('colab-df-spinner');\n",
              "          quickchartButtonEl.classList.add('colab-df-quickchart-complete');\n",
              "        }\n",
              "        (() => {\n",
              "          let quickchartButtonEl =\n",
              "            document.querySelector('#df-432bc771-b053-4bde-b19d-a8e4b5a5f007 button');\n",
              "          quickchartButtonEl.style.display =\n",
              "            google.colab.kernel.accessAllowed ? 'block' : 'none';\n",
              "        })();\n",
              "      </script>\n",
              "    </div>\n",
              "\n",
              "    </div>\n",
              "  </div>\n"
            ],
            "application/vnd.google.colaboratory.intrinsic+json": {
              "type": "dataframe",
              "summary": "{\n  \"name\": \"df\",\n  \"rows\": 8,\n  \"fields\": [\n    {\n      \"column\": \"student_id\",\n      \"properties\": {\n        \"dtype\": \"number\",\n        \"std\": 3511957754.327002,\n        \"min\": 978.0,\n        \"max\": 9993929875.0,\n        \"num_unique_values\": 8,\n        \"samples\": [\n          5017482305.162577,\n          4932403755.0,\n          978.0\n        ],\n        \"semantic_type\": \"\",\n        \"description\": \"\"\n      }\n    },\n    {\n      \"column\": \"age\",\n      \"properties\": {\n        \"dtype\": \"number\",\n        \"std\": 326.0543031989744,\n        \"min\": 18.0,\n        \"max\": 973.0,\n        \"num_unique_values\": 8,\n        \"samples\": [\n          59.1469681397739,\n          60.0,\n          973.0\n        ],\n        \"semantic_type\": \"\",\n        \"description\": \"\"\n      }\n    },\n    {\n      \"column\": \"gpa\",\n      \"properties\": {\n        \"dtype\": \"number\",\n        \"std\": 332.39208100842353,\n        \"min\": 0.0,\n        \"max\": 942.0,\n        \"num_unique_values\": 8,\n        \"samples\": [\n          1.9585350318471337,\n          1.95,\n          942.0\n        ],\n        \"semantic_type\": \"\",\n        \"description\": \"\"\n      }\n    },\n    {\n      \"column\": \"attendance_rate\",\n      \"properties\": {\n        \"dtype\": \"number\",\n        \"std\": 291.34411921251916,\n        \"min\": 14.686511608128695,\n        \"max\": 887.0,\n        \"num_unique_values\": 8,\n        \"samples\": [\n          74.64712514092446,\n          75.0,\n          887.0\n        ],\n        \"semantic_type\": \"\",\n        \"description\": \"\"\n      }\n    },\n    {\n      \"column\": \"study_hours_per_week \",\n      \"properties\": {\n        \"dtype\": \"number\",\n        \"std\": 288.0460573767476,\n        \"min\": 0.0,\n        \"max\": 833.0,\n        \"num_unique_values\": 8,\n        \"samples\": [\n          20.37454981992797,\n          21.0,\n          833.0\n        ],\n        \"semantic_type\": \"\",\n        \"description\": \"\"\n      }\n    },\n    {\n      \"column\": \"sleep_hours_per_night\",\n      \"properties\": {\n        \"dtype\": \"number\",\n        \"std\": 283.16664008848113,\n        \"min\": 1.0,\n        \"max\": 807.0,\n        \"num_unique_values\": 8,\n        \"samples\": [\n          6.5353159851301115,\n          7.0,\n          807.0\n        ],\n        \"semantic_type\": \"\",\n        \"description\": \"\"\n      }\n    }\n  ]\n}"
            }
          },
          "metadata": {},
          "execution_count": 8
        }
      ]
    },
    {
      "cell_type": "markdown",
      "source": [
        "Cantidad de Filas y Columnas del DF"
      ],
      "metadata": {
        "id": "JWdr7porSxtw"
      }
    },
    {
      "cell_type": "code",
      "source": [
        "df.shape #cantidad de filas y columnas del df"
      ],
      "metadata": {
        "colab": {
          "base_uri": "https://localhost:8080/"
        },
        "id": "n4VPcUKYm82T",
        "outputId": "d1b6e7f8-9122-4e44-d25d-985c9f355ac9"
      },
      "execution_count": null,
      "outputs": [
        {
          "output_type": "execute_result",
          "data": {
            "text/plain": [
              "(1000, 18)"
            ]
          },
          "metadata": {},
          "execution_count": 11
        }
      ]
    },
    {
      "cell_type": "markdown",
      "source": [
        "Cantidad de estudiantes por carrera"
      ],
      "metadata": {
        "id": "Pr9XCYB9mr-4"
      }
    },
    {
      "cell_type": "code",
      "source": [
        "df['major'].value_counts()"
      ],
      "metadata": {
        "colab": {
          "base_uri": "https://localhost:8080/",
          "height": 335
        },
        "id": "Knt90J5AmaGC",
        "outputId": "8687d39f-7a01-4dc7-8cfe-df764ff4f19d"
      },
      "execution_count": null,
      "outputs": [
        {
          "output_type": "execute_result",
          "data": {
            "text/plain": [
              "major\n",
              "Student           152\n",
              "Architecture      148\n",
              "Engineering       144\n",
              "Law               135\n",
              "Psychology        132\n",
              "Medicine          131\n",
              "Administration    125\n",
              "Name: count, dtype: int64"
            ],
            "text/html": [
              "<div>\n",
              "<style scoped>\n",
              "    .dataframe tbody tr th:only-of-type {\n",
              "        vertical-align: middle;\n",
              "    }\n",
              "\n",
              "    .dataframe tbody tr th {\n",
              "        vertical-align: top;\n",
              "    }\n",
              "\n",
              "    .dataframe thead th {\n",
              "        text-align: right;\n",
              "    }\n",
              "</style>\n",
              "<table border=\"1\" class=\"dataframe\">\n",
              "  <thead>\n",
              "    <tr style=\"text-align: right;\">\n",
              "      <th></th>\n",
              "      <th>count</th>\n",
              "    </tr>\n",
              "    <tr>\n",
              "      <th>major</th>\n",
              "      <th></th>\n",
              "    </tr>\n",
              "  </thead>\n",
              "  <tbody>\n",
              "    <tr>\n",
              "      <th>Student</th>\n",
              "      <td>152</td>\n",
              "    </tr>\n",
              "    <tr>\n",
              "      <th>Architecture</th>\n",
              "      <td>148</td>\n",
              "    </tr>\n",
              "    <tr>\n",
              "      <th>Engineering</th>\n",
              "      <td>144</td>\n",
              "    </tr>\n",
              "    <tr>\n",
              "      <th>Law</th>\n",
              "      <td>135</td>\n",
              "    </tr>\n",
              "    <tr>\n",
              "      <th>Psychology</th>\n",
              "      <td>132</td>\n",
              "    </tr>\n",
              "    <tr>\n",
              "      <th>Medicine</th>\n",
              "      <td>131</td>\n",
              "    </tr>\n",
              "    <tr>\n",
              "      <th>Administration</th>\n",
              "      <td>125</td>\n",
              "    </tr>\n",
              "  </tbody>\n",
              "</table>\n",
              "</div><br><label><b>dtype:</b> int64</label>"
            ]
          },
          "metadata": {},
          "execution_count": 10
        }
      ]
    },
    {
      "cell_type": "markdown",
      "source": [
        "Filas Nulas"
      ],
      "metadata": {
        "id": "QkUMov2Wnc74"
      }
    },
    {
      "cell_type": "code",
      "source": [
        "#detectar filas que contienen un valor nulo\n",
        "\n",
        "filas_nulas = df.isnull().any(axis=1)\n",
        "\n",
        "print (df[filas_nulas])\n",
        "\n",
        "numero_filas_nulas = df[filas_nulas].shape[0]\n",
        "print (f\"numero de filas nulas: {numero_filas_nulas}\")\n",
        "\n",
        "indices_filas_nulas = df[filas_nulas].index.tolist()\n",
        "print(f\"Índices de las filas nulas: {indices_filas_nulas}\")"
      ],
      "metadata": {
        "colab": {
          "base_uri": "https://localhost:8080/"
        },
        "id": "JnUuZ8LAnblv",
        "outputId": "41612423-f079-4f5a-d710-0624722f8e79"
      },
      "execution_count": null,
      "outputs": [
        {
          "output_type": "stream",
          "name": "stdout",
          "text": [
            "                   student_ulid first_name  last_name    student_id  \\\n",
            "0    01JSJW8GB9GFDGKT3R63J7NWSM      Reeba  Francesch  2.296751e+08   \n",
            "2    01JSJW8GBEA636S3CRYQYFVM54       Elle      Slimm  5.731077e+09   \n",
            "3    01JSJW8GBF2TK2F4EEDCH3HTBY     Selena     Hugett  3.618530e+08   \n",
            "5    01JSJW8GBJXN0E056TY0Q51MEQ   Richmond        NaN  3.161899e+09   \n",
            "6    01JSJW8GBMG99WH1B8RMTRK8NB     Hester     Darrel  4.283919e+09   \n",
            "..                          ...        ...        ...           ...   \n",
            "991  01JSJW8J9ETJKE5XMZG8CV5WVV   Wallache   Feldhorn  1.269732e+09   \n",
            "992  01JSJW8J9F3S34NZ5VENKV3W46     Odelia    Fintoph  2.372893e+09   \n",
            "993  01JSJW8J9H8V47NT8DCNSDYF2K      Elena        Han  6.855144e+09   \n",
            "994  01JSJW8J9K7AWJZA87PD25DKT8      Elyse      Tasch  4.663189e+09   \n",
            "999  01JSJW8J9WJ5J2TPY10N96S9QT       Gabi       Geri  8.513287e+09   \n",
            "\n",
            "          gender   age                         email                address   \\\n",
            "0    Genderqueer  58.0         rfrancesch0@state.gov          5 Coleman Hill   \n",
            "2         Female  25.0           eslimm2@gizmodo.com                     NaN   \n",
            "3         Female  86.0         shugett3@edublogs.org       3213 Heath Circle   \n",
            "5           Male  60.0                rcovert5@51.la     6676 Daystar Avenue   \n",
            "6         Female  81.0         hdarrel6@buzzfeed.com       0 Superior Circle   \n",
            "..           ...   ...                           ...                     ...   \n",
            "991         Male  79.0  wfeldhornrj@miitbeian.gov.cn       9228 Vernon Point   \n",
            "992     Bigender  65.0            ofintophrk@nyu.edu                     NaN   \n",
            "993       Female  95.0               ehanrl@lulu.com       7031 Kinsman Pass   \n",
            "994       Female  77.0             etaschrm@yale.edu  00707 Old Shore Avenue   \n",
            "999         Male  27.0             ggerirr@weibo.com      60 Fairfield Place   \n",
            "\n",
            "             phone           major   gpa  attendance_rate  \\\n",
            "0    (161) 8707438    Architecture  2.80             73.0   \n",
            "2    (464) 6044481  Administration  0.76              NaN   \n",
            "3    (499) 4575315     Engineering  1.52             75.0   \n",
            "5    (647) 4899125         Student  3.84             73.0   \n",
            "6    (542) 7605201  Administration  1.00              NaN   \n",
            "..             ...             ...   ...              ...   \n",
            "991            NaN    Architecture  3.65             73.0   \n",
            "992  (985) 1493219             Law  0.36             65.0   \n",
            "993  (363) 2868600    Architecture  1.42             58.0   \n",
            "994  (575) 9021439         Student  2.70              NaN   \n",
            "999  (727) 1749788             Law   NaN            100.0   \n",
            "\n",
            "    mental_health_status  study_hours_per_week  extracurricular_participation  \\\n",
            "0                   Good                   22.0                          True   \n",
            "2                    NaN                   30.0                          True   \n",
            "3                    Bad                    NaN                          True   \n",
            "5                   Good                   14.0                          True   \n",
            "6                    Bad                    5.0                         False   \n",
            "..                   ...                    ...                           ...   \n",
            "991                 Good                   36.0                         False   \n",
            "992                  Bad                   33.0                          True   \n",
            "993              Average                    NaN                          True   \n",
            "994                 Good                   23.0                         False   \n",
            "999                  NaN                    NaN                          True   \n",
            "\n",
            "    scholarship  internet_access   sleep_hours_per_night  \n",
            "0          False              NaN                    NaN  \n",
            "2           True            False                   12.0  \n",
            "3           True             True                    9.0  \n",
            "5          False              NaN                    3.0  \n",
            "6          False            False                   11.0  \n",
            "..           ...              ...                    ...  \n",
            "991        False             True                   10.0  \n",
            "992          NaN            False                    NaN  \n",
            "993        False            False                    1.0  \n",
            "994        False            False                   10.0  \n",
            "999         True            False                    2.0  \n",
            "\n",
            "[802 rows x 18 columns]\n",
            "numero de filas nulas: 802\n",
            "Índices de las filas nulas: [0, 2, 3, 5, 6, 7, 8, 9, 10, 11, 12, 13, 14, 15, 16, 18, 19, 20, 21, 22, 23, 24, 25, 26, 27, 28, 29, 30, 31, 32, 33, 34, 35, 36, 37, 38, 39, 40, 41, 43, 44, 45, 46, 47, 48, 49, 50, 51, 52, 53, 54, 55, 56, 57, 58, 59, 60, 62, 63, 67, 68, 69, 70, 71, 73, 74, 77, 78, 80, 81, 82, 83, 84, 85, 87, 88, 89, 90, 92, 93, 94, 95, 96, 97, 99, 100, 101, 104, 106, 107, 109, 110, 111, 113, 114, 115, 117, 118, 119, 120, 121, 122, 123, 125, 126, 128, 129, 133, 135, 137, 138, 140, 141, 142, 145, 146, 147, 148, 149, 151, 152, 154, 155, 158, 159, 160, 162, 163, 164, 165, 166, 167, 168, 170, 171, 172, 173, 174, 175, 176, 177, 178, 179, 181, 182, 184, 185, 186, 188, 189, 190, 191, 192, 193, 194, 195, 196, 198, 199, 200, 201, 204, 205, 207, 209, 210, 211, 212, 213, 214, 215, 216, 217, 218, 219, 220, 221, 222, 223, 224, 225, 226, 228, 229, 230, 231, 232, 233, 234, 235, 238, 239, 241, 242, 243, 244, 245, 246, 247, 248, 249, 250, 251, 252, 253, 254, 256, 257, 258, 259, 260, 262, 263, 264, 265, 266, 267, 268, 270, 271, 272, 273, 275, 276, 278, 279, 280, 281, 284, 285, 286, 288, 289, 290, 292, 293, 294, 296, 297, 298, 300, 301, 302, 303, 304, 306, 307, 308, 309, 311, 312, 314, 315, 316, 317, 318, 319, 322, 323, 324, 325, 326, 327, 328, 329, 330, 331, 332, 333, 334, 335, 337, 338, 339, 340, 341, 342, 343, 344, 345, 346, 347, 348, 351, 353, 354, 355, 357, 361, 362, 363, 364, 365, 366, 367, 368, 371, 373, 375, 376, 377, 378, 379, 380, 381, 382, 383, 384, 385, 386, 390, 391, 392, 393, 394, 395, 396, 398, 399, 400, 402, 403, 404, 407, 409, 410, 414, 415, 416, 417, 418, 419, 420, 421, 424, 425, 427, 428, 429, 430, 431, 432, 433, 434, 435, 436, 437, 440, 441, 443, 444, 445, 446, 447, 448, 451, 453, 454, 455, 456, 457, 458, 460, 462, 463, 464, 465, 466, 467, 468, 469, 471, 472, 474, 475, 476, 477, 479, 481, 482, 483, 484, 485, 486, 490, 491, 492, 493, 494, 495, 497, 498, 499, 501, 502, 503, 504, 505, 506, 507, 508, 510, 511, 512, 513, 514, 515, 516, 517, 518, 519, 521, 522, 523, 524, 527, 528, 531, 532, 534, 535, 536, 538, 539, 540, 541, 542, 543, 544, 545, 546, 547, 548, 549, 552, 553, 554, 555, 556, 557, 559, 560, 561, 562, 563, 564, 565, 566, 568, 570, 572, 573, 574, 575, 576, 578, 579, 580, 581, 583, 584, 585, 586, 587, 588, 590, 591, 592, 593, 594, 595, 596, 597, 599, 601, 602, 603, 604, 610, 612, 613, 614, 616, 617, 618, 619, 620, 621, 622, 623, 624, 625, 627, 628, 629, 631, 632, 634, 635, 636, 637, 638, 639, 640, 641, 642, 643, 644, 646, 647, 649, 650, 651, 652, 653, 654, 655, 656, 657, 659, 660, 661, 662, 663, 664, 665, 666, 667, 669, 670, 671, 672, 674, 675, 676, 677, 679, 680, 681, 682, 683, 684, 685, 686, 687, 688, 689, 690, 691, 692, 693, 694, 696, 697, 698, 699, 704, 705, 706, 707, 708, 709, 710, 711, 712, 713, 715, 717, 718, 719, 721, 722, 723, 724, 726, 727, 728, 730, 731, 732, 733, 734, 735, 736, 737, 738, 739, 740, 742, 743, 744, 745, 746, 747, 748, 749, 750, 751, 752, 753, 755, 756, 758, 759, 760, 761, 762, 763, 764, 765, 766, 767, 768, 769, 770, 771, 772, 773, 774, 778, 779, 780, 781, 783, 785, 786, 787, 788, 789, 790, 791, 793, 795, 796, 799, 800, 802, 803, 804, 805, 807, 808, 809, 811, 812, 815, 816, 817, 818, 819, 820, 821, 823, 824, 826, 827, 828, 829, 830, 831, 832, 833, 834, 835, 837, 838, 839, 840, 841, 843, 845, 846, 848, 850, 851, 852, 853, 854, 855, 857, 859, 860, 861, 862, 863, 864, 865, 868, 869, 870, 871, 872, 873, 874, 875, 876, 878, 879, 880, 881, 882, 883, 884, 885, 886, 887, 889, 890, 891, 892, 893, 895, 896, 898, 900, 901, 902, 903, 904, 905, 906, 907, 908, 909, 910, 911, 912, 913, 914, 915, 916, 917, 919, 920, 921, 922, 923, 924, 926, 927, 928, 929, 930, 931, 932, 934, 935, 936, 937, 938, 939, 940, 941, 942, 944, 945, 946, 947, 948, 949, 950, 951, 952, 953, 954, 955, 956, 957, 958, 959, 960, 962, 963, 964, 966, 968, 969, 970, 971, 972, 973, 974, 975, 976, 977, 978, 979, 980, 981, 982, 983, 984, 986, 987, 988, 989, 990, 991, 992, 993, 994, 999]\n"
          ]
        }
      ]
    },
    {
      "cell_type": "markdown",
      "source": [
        "Valores ausentes en las columnas del DF"
      ],
      "metadata": {
        "id": "JoiFYaL7MmE2"
      }
    },
    {
      "cell_type": "code",
      "source": [
        "# Verificar valores ausentes en todas las columnas\n",
        "df.isnull().sum()\n"
      ],
      "metadata": {
        "colab": {
          "base_uri": "https://localhost:8080/",
          "height": 649
        },
        "id": "hAn_rBu2nq8K",
        "outputId": "55685d2e-9cb9-4ece-8cbc-b5d0ea91070a"
      },
      "execution_count": null,
      "outputs": [
        {
          "output_type": "execute_result",
          "data": {
            "text/plain": [
              "student_ulid                      20\n",
              "first_name                         0\n",
              "last_name                         31\n",
              "student_id                        22\n",
              "gender                            18\n",
              "age                               27\n",
              "email                            118\n",
              "address                          208\n",
              "phone                            167\n",
              "major                             33\n",
              "gpa                               58\n",
              "attendance_rate                  113\n",
              "mental_health_status              93\n",
              "study_hours_per_week             167\n",
              "extracurricular_participation     58\n",
              "scholarship                       50\n",
              "internet_access                   94\n",
              "sleep_hours_per_night            193\n",
              "dtype: int64"
            ],
            "text/html": [
              "<div>\n",
              "<style scoped>\n",
              "    .dataframe tbody tr th:only-of-type {\n",
              "        vertical-align: middle;\n",
              "    }\n",
              "\n",
              "    .dataframe tbody tr th {\n",
              "        vertical-align: top;\n",
              "    }\n",
              "\n",
              "    .dataframe thead th {\n",
              "        text-align: right;\n",
              "    }\n",
              "</style>\n",
              "<table border=\"1\" class=\"dataframe\">\n",
              "  <thead>\n",
              "    <tr style=\"text-align: right;\">\n",
              "      <th></th>\n",
              "      <th>0</th>\n",
              "    </tr>\n",
              "  </thead>\n",
              "  <tbody>\n",
              "    <tr>\n",
              "      <th>student_ulid</th>\n",
              "      <td>20</td>\n",
              "    </tr>\n",
              "    <tr>\n",
              "      <th>first_name</th>\n",
              "      <td>0</td>\n",
              "    </tr>\n",
              "    <tr>\n",
              "      <th>last_name</th>\n",
              "      <td>31</td>\n",
              "    </tr>\n",
              "    <tr>\n",
              "      <th>student_id</th>\n",
              "      <td>22</td>\n",
              "    </tr>\n",
              "    <tr>\n",
              "      <th>gender</th>\n",
              "      <td>18</td>\n",
              "    </tr>\n",
              "    <tr>\n",
              "      <th>age</th>\n",
              "      <td>27</td>\n",
              "    </tr>\n",
              "    <tr>\n",
              "      <th>email</th>\n",
              "      <td>118</td>\n",
              "    </tr>\n",
              "    <tr>\n",
              "      <th>address</th>\n",
              "      <td>208</td>\n",
              "    </tr>\n",
              "    <tr>\n",
              "      <th>phone</th>\n",
              "      <td>167</td>\n",
              "    </tr>\n",
              "    <tr>\n",
              "      <th>major</th>\n",
              "      <td>33</td>\n",
              "    </tr>\n",
              "    <tr>\n",
              "      <th>gpa</th>\n",
              "      <td>58</td>\n",
              "    </tr>\n",
              "    <tr>\n",
              "      <th>attendance_rate</th>\n",
              "      <td>113</td>\n",
              "    </tr>\n",
              "    <tr>\n",
              "      <th>mental_health_status</th>\n",
              "      <td>93</td>\n",
              "    </tr>\n",
              "    <tr>\n",
              "      <th>study_hours_per_week</th>\n",
              "      <td>167</td>\n",
              "    </tr>\n",
              "    <tr>\n",
              "      <th>extracurricular_participation</th>\n",
              "      <td>58</td>\n",
              "    </tr>\n",
              "    <tr>\n",
              "      <th>scholarship</th>\n",
              "      <td>50</td>\n",
              "    </tr>\n",
              "    <tr>\n",
              "      <th>internet_access</th>\n",
              "      <td>94</td>\n",
              "    </tr>\n",
              "    <tr>\n",
              "      <th>sleep_hours_per_night</th>\n",
              "      <td>193</td>\n",
              "    </tr>\n",
              "  </tbody>\n",
              "</table>\n",
              "</div><br><label><b>dtype:</b> int64</label>"
            ]
          },
          "metadata": {},
          "execution_count": 15
        }
      ]
    },
    {
      "cell_type": "markdown",
      "source": [
        "Análisis de registros válidos"
      ],
      "metadata": {
        "id": "RJifJBR2ozlR"
      }
    },
    {
      "cell_type": "code",
      "source": [
        "# Porcentaje de valores válidos por columna\n",
        "valid_values_percentage = df.notnull().sum() / len(df) * 100\n",
        "print(valid_values_percentage)"
      ],
      "metadata": {
        "colab": {
          "base_uri": "https://localhost:8080/"
        },
        "id": "UyHqvQxtoR6m",
        "outputId": "1ad7d388-59e9-4975-b2a2-4f9e7224d1d8"
      },
      "execution_count": null,
      "outputs": [
        {
          "output_type": "stream",
          "name": "stdout",
          "text": [
            "student_ulid                      98.0\n",
            "first_name                       100.0\n",
            "last_name                         96.9\n",
            "student_id                        97.8\n",
            "gender                            98.2\n",
            "age                               97.3\n",
            "email                             88.2\n",
            "address                           79.2\n",
            "phone                             83.3\n",
            "major                             96.7\n",
            "gpa                               94.2\n",
            "attendance_rate                   88.7\n",
            "mental_health_status              90.7\n",
            "study_hours_per_week              83.3\n",
            "extracurricular_participation     94.2\n",
            "scholarship                       95.0\n",
            "internet_access                   90.6\n",
            "sleep_hours_per_night             80.7\n",
            "dtype: float64\n"
          ]
        }
      ]
    },
    {
      "cell_type": "code",
      "source": [
        "# Revisar si existen edades fuera de un rango razonable (ejemplo: menores de 16 o mayores de 99)\n",
        "invalid_ages = df[(df['age'] < 16) | (df['age'] > 99)]\n",
        "print(f\"Registros con edades fuera de rango:\\n{invalid_ages}\")\n",
        "\n",
        "# Verificar valores erróneos en género (ejemplo: valores que no sean 'Male' o 'Female')\n",
        "invalid_gender = df[~df['gender'].isin(['Male', 'Female'])]\n",
        "print(f\"Valores erróneos en la columna 'gender':\\n{invalid_gender}\")"
      ],
      "metadata": {
        "colab": {
          "base_uri": "https://localhost:8080/"
        },
        "id": "aFid6_1Ao3Mf",
        "outputId": "83c2ddfa-970a-496b-dd06-0937bc5053eb"
      },
      "execution_count": null,
      "outputs": [
        {
          "output_type": "stream",
          "name": "stdout",
          "text": [
            "Registros con edades fuera de rango:\n",
            "Empty DataFrame\n",
            "Columns: [student_ulid, first_name, last_name, student_id, gender, age, email, address , phone, major, gpa, attendance_rate, mental_health_status, study_hours_per_week , extracurricular_participation, scholarship , internet_access , sleep_hours_per_night]\n",
            "Index: []\n",
            "Valores erróneos en la columna 'gender':\n",
            "                   student_ulid first_name    last_name    student_id  \\\n",
            "0    01JSJW8GB9GFDGKT3R63J7NWSM      Reeba    Francesch  2.296751e+08   \n",
            "8    01JSJW8GBQ22DPE7XKE29M5EHD     Giusto        Minci  9.685291e+09   \n",
            "12   01JSJW8GBYWEV4FDZNBRXF7KM8     Bobina       Heenan  4.896290e+08   \n",
            "25   01JSJW8GCJ17E8BT73X4MWCFXJ   Chloette         Bole  1.564952e+09   \n",
            "31   01JSJW8GCXDKS0AEPM0D275TSF      Jayme       Thresh  3.985757e+08   \n",
            "..                          ...        ...          ...           ...   \n",
            "959  01JSJW8J61DC7R20EZBEZZHHRG      Drusi      Jagiela  4.264773e+09   \n",
            "983  01JSJW8J847BH5RR345YVPE0KW       Wain  Cuthbertson  2.240811e+08   \n",
            "987  01JSJW8J8BCE8J2V0HQZFJDBGN      Kirby      Ummfrey  6.058202e+09   \n",
            "989  01JSJW8J9A7QMW20QS1TD87951    Nicolis      Lassell  5.633034e+09   \n",
            "992  01JSJW8J9F3S34NZ5VENKV3W46     Odelia      Fintoph  2.372893e+09   \n",
            "\n",
            "          gender   age                       email                address   \\\n",
            "0    Genderqueer  58.0       rfrancesch0@state.gov          5 Coleman Hill   \n",
            "8     Polygender  75.0            gminci8@about.me        6773 Debra Trail   \n",
            "12      Bigender  72.0    bheenanc@theatlantic.com      41221 Rigney Trail   \n",
            "25       Agender  50.0         cbolep@japanpost.jp                     NaN   \n",
            "31    Polygender  62.0            jthreshv@home.pl    2 Magdeline Crossing   \n",
            "..           ...   ...                         ...                     ...   \n",
            "959     Bigender  32.0        djagielaqn@google.ru                     NaN   \n",
            "983   Polygender  57.0   wcuthbertsonrb@cpanel.net                     NaN   \n",
            "987          NaN  52.0     kummfreyrf@sakura.ne.jp  457 Summer Ridge Alley   \n",
            "989      Agender  79.0  nlassellrh@list-manage.com  6836 Forest Dale Alley   \n",
            "992     Bigender  65.0          ofintophrk@nyu.edu                     NaN   \n",
            "\n",
            "             phone           major   gpa  attendance_rate  \\\n",
            "0    (161) 8707438    Architecture  2.80             73.0   \n",
            "8              NaN         Student  2.72             71.0   \n",
            "12   (661) 3303958  Administration  2.77              NaN   \n",
            "25   (563) 9557195             Law  1.41             84.0   \n",
            "31   (531) 4010605  Administration  0.56             58.0   \n",
            "..             ...             ...   ...              ...   \n",
            "959  (810) 9989482        Medicine  2.39             50.0   \n",
            "983            NaN    Architecture  2.63             73.0   \n",
            "987            NaN     Engineering  3.79             73.0   \n",
            "989            NaN  Administration  1.58             78.0   \n",
            "992  (985) 1493219             Law  0.36             65.0   \n",
            "\n",
            "    mental_health_status  study_hours_per_week  extracurricular_participation  \\\n",
            "0                   Good                   22.0                          True   \n",
            "8                   Good                    NaN                          True   \n",
            "12                  Good                    4.0                          True   \n",
            "25                   Bad                    4.0                         False   \n",
            "31                   Bad                    NaN                           NaN   \n",
            "..                   ...                    ...                           ...   \n",
            "959                 Good                   15.0                          True   \n",
            "983              Average                   12.0                          True   \n",
            "987                  NaN                    4.0                         False   \n",
            "989                  Bad                    3.0                          True   \n",
            "992                  Bad                   33.0                          True   \n",
            "\n",
            "    scholarship  internet_access   sleep_hours_per_night  \n",
            "0          False              NaN                    NaN  \n",
            "8          False            False                    6.0  \n",
            "12          True             True                    8.0  \n",
            "25         False             True                    7.0  \n",
            "31         False            False                    4.0  \n",
            "..           ...              ...                    ...  \n",
            "959          NaN            False                   12.0  \n",
            "983         True            False                    1.0  \n",
            "987         True            False                    2.0  \n",
            "989         True             True                   10.0  \n",
            "992          NaN            False                    NaN  \n",
            "\n",
            "[106 rows x 18 columns]\n"
          ]
        }
      ]
    },
    {
      "cell_type": "markdown",
      "source": [
        "##Estadisticas descriptivas por variables Categóricas\n",
        "\n"
      ],
      "metadata": {
        "id": "fPNE8M7yTJQD"
      }
    },
    {
      "cell_type": "code",
      "source": [
        "#Analisis de columnas de variables categóricas\n",
        "\n",
        "categoricas = df.select_dtypes(include=[\"object\", \"category\", \"bool\"])\n",
        "print(\"Columnas Categoricas:\", categoricas.columns.tolist())"
      ],
      "metadata": {
        "colab": {
          "base_uri": "https://localhost:8080/"
        },
        "id": "EprXfJIOTMJg",
        "outputId": "e4bde29a-5295-4ba1-85d6-0fbfbefd2e0f"
      },
      "execution_count": null,
      "outputs": [
        {
          "output_type": "stream",
          "name": "stdout",
          "text": [
            "Columnas Categoricas: ['student_ulid', 'first_name', 'last_name', 'gender', 'email', 'address ', 'phone', 'major', 'mental_health_status', 'extracurricular_participation', 'scholarship ', 'internet_access ']\n"
          ]
        }
      ]
    },
    {
      "cell_type": "markdown",
      "source": [
        "### Estadisticas descriptivas por variables Numéricas"
      ],
      "metadata": {
        "id": "h-UTLdCUMs1U"
      }
    },
    {
      "cell_type": "markdown",
      "source": [
        "Seleccionamos las columnas Numéricas, identificando las mismas por el tipo de dato"
      ],
      "metadata": {
        "id": "qT80KcOlMyxI"
      }
    },
    {
      "cell_type": "code",
      "source": [
        "numericas = df.select_dtypes(include=[\"int64\", \"float64\"])\n",
        "print(\"Columnas numéricas:\", numericas.columns.tolist())"
      ],
      "metadata": {
        "id": "T2yz9StzMu5r",
        "colab": {
          "base_uri": "https://localhost:8080/"
        },
        "outputId": "039a34bf-ce3c-458f-a9f5-4d464e8f4231"
      },
      "execution_count": null,
      "outputs": [
        {
          "output_type": "stream",
          "name": "stdout",
          "text": [
            "Columnas numéricas: ['student_id', 'age', 'gpa', 'attendance_rate', 'study_hours_per_week ', 'sleep_hours_per_night']\n"
          ]
        }
      ]
    },
    {
      "cell_type": "markdown",
      "source": [
        "Calculamos el **Desvio Estandar** de estas columnas"
      ],
      "metadata": {
        "id": "cf9_Uj5rM1EV"
      }
    },
    {
      "cell_type": "code",
      "source": [
        "desvios = numericas.std()  # Desvío estándar muestral (ddof=1)\n",
        "print(desvios)"
      ],
      "metadata": {
        "id": "nGzaNaXmM3bI",
        "colab": {
          "base_uri": "https://localhost:8080/"
        },
        "outputId": "e60103b1-1f69-4ea4-bd4b-f4ebd6d03676"
      },
      "execution_count": null,
      "outputs": [
        {
          "output_type": "stream",
          "name": "stdout",
          "text": [
            "student_id               2.935483e+09\n",
            "age                      2.369226e+01\n",
            "gpa                      1.161729e+00\n",
            "attendance_rate          1.468651e+01\n",
            "study_hours_per_week     1.181829e+01\n",
            "sleep_hours_per_night    3.517193e+00\n",
            "dtype: float64\n"
          ]
        }
      ]
    },
    {
      "cell_type": "markdown",
      "source": [
        "Calculamos la **Media**"
      ],
      "metadata": {
        "id": "oCVsSRFWTCaS"
      }
    },
    {
      "cell_type": "code",
      "source": [
        "media = numericas.mean()\n",
        "print(media)"
      ],
      "metadata": {
        "id": "xfCfzfStTFB2",
        "colab": {
          "base_uri": "https://localhost:8080/"
        },
        "outputId": "f391e36d-11c5-4388-da62-9fe2e794c07d"
      },
      "execution_count": null,
      "outputs": [
        {
          "output_type": "stream",
          "name": "stdout",
          "text": [
            "student_id               5.017482e+09\n",
            "age                      5.914697e+01\n",
            "gpa                      1.958535e+00\n",
            "attendance_rate          7.464713e+01\n",
            "study_hours_per_week     2.037455e+01\n",
            "sleep_hours_per_night    6.535316e+00\n",
            "dtype: float64\n"
          ]
        }
      ]
    },
    {
      "cell_type": "markdown",
      "source": [
        "Calculamos la **Mediana**"
      ],
      "metadata": {
        "id": "En3bqkx6TKeD"
      }
    },
    {
      "cell_type": "code",
      "source": [
        "mediana = numericas.median()\n",
        "print(mediana)"
      ],
      "metadata": {
        "id": "HzUXRdNPTKQF",
        "colab": {
          "base_uri": "https://localhost:8080/"
        },
        "outputId": "82f3256e-89e6-47e4-993d-797489ed0f92"
      },
      "execution_count": null,
      "outputs": [
        {
          "output_type": "stream",
          "name": "stdout",
          "text": [
            "student_id               4.932404e+09\n",
            "age                      6.000000e+01\n",
            "gpa                      1.950000e+00\n",
            "attendance_rate          7.500000e+01\n",
            "study_hours_per_week     2.100000e+01\n",
            "sleep_hours_per_night    7.000000e+00\n",
            "dtype: float64\n"
          ]
        }
      ]
    },
    {
      "cell_type": "markdown",
      "source": [
        "Cuenta **valores nulos** por columna"
      ],
      "metadata": {
        "id": "wqc8W5YpTQ0h"
      }
    },
    {
      "cell_type": "code",
      "source": [
        "print(numericas.isnull().sum())"
      ],
      "metadata": {
        "id": "GgI0gyEhTRRh",
        "colab": {
          "base_uri": "https://localhost:8080/"
        },
        "outputId": "22c953f1-662b-4629-a60b-aa3949c06b00"
      },
      "execution_count": null,
      "outputs": [
        {
          "output_type": "stream",
          "name": "stdout",
          "text": [
            "student_id                22\n",
            "age                       27\n",
            "gpa                       58\n",
            "attendance_rate          113\n",
            "study_hours_per_week     167\n",
            "sleep_hours_per_night    193\n",
            "dtype: int64\n"
          ]
        }
      ]
    },
    {
      "cell_type": "markdown",
      "source": [
        "Número de **valores únicos** por columna"
      ],
      "metadata": {
        "id": "kDtGOsWBTV3K"
      }
    },
    {
      "cell_type": "code",
      "source": [
        "print(numericas.nunique())"
      ],
      "metadata": {
        "id": "BivPciEjTXvC",
        "colab": {
          "base_uri": "https://localhost:8080/"
        },
        "outputId": "c133fdc3-0db1-42dd-ea4b-1571e3e421ab"
      },
      "execution_count": null,
      "outputs": [
        {
          "output_type": "stream",
          "name": "stdout",
          "text": [
            "student_id               978\n",
            "age                       82\n",
            "gpa                      360\n",
            "attendance_rate           51\n",
            "study_hours_per_week      41\n",
            "sleep_hours_per_night     12\n",
            "dtype: int64\n"
          ]
        }
      ]
    },
    {
      "cell_type": "markdown",
      "source": [
        "Cantidad de **valores válidos sobre el total**"
      ],
      "metadata": {
        "id": "1qkC85AITZ8l"
      }
    },
    {
      "cell_type": "code",
      "source": [
        "# Total de filas incluyendo las NaN\n",
        "total = numericas.shape[0]\n",
        "\n",
        "# Conteo de valores no nulos por columna\n",
        "valores_validos = numericas.count()\n",
        "\n",
        "# Cociente\n",
        "cociente = valores_validos / total\n",
        "print(cociente)"
      ],
      "metadata": {
        "id": "JDUdi_qoTceB",
        "colab": {
          "base_uri": "https://localhost:8080/"
        },
        "outputId": "67450930-c78d-42e3-ab4f-341ea30cd66e"
      },
      "execution_count": null,
      "outputs": [
        {
          "output_type": "stream",
          "name": "stdout",
          "text": [
            "student_id               0.978\n",
            "age                      0.973\n",
            "gpa                      0.942\n",
            "attendance_rate          0.887\n",
            "study_hours_per_week     0.833\n",
            "sleep_hours_per_night    0.807\n",
            "dtype: float64\n"
          ]
        }
      ]
    },
    {
      "cell_type": "code",
      "source": [
        "#Analisis de columnas de variables categóricas\n",
        "\n",
        "categoricas = df.select_dtypes(include=[\"object\", \"category\", \"bool\"])\n",
        "print(\"Columnas Categoricas:\", categoricas.columns.tolist())"
      ],
      "metadata": {
        "id": "hNT-5jjBTgnp",
        "colab": {
          "base_uri": "https://localhost:8080/"
        },
        "outputId": "bfe9fbe9-a2fe-4b4b-f801-83d3027ce33f"
      },
      "execution_count": null,
      "outputs": [
        {
          "output_type": "stream",
          "name": "stdout",
          "text": [
            "Columnas Categoricas: ['student_ulid', 'first_name', 'last_name', 'gender', 'email', 'address ', 'phone', 'major', 'mental_health_status', 'extracurricular_participation', 'scholarship ', 'internet_access ']\n"
          ]
        }
      ]
    },
    {
      "cell_type": "markdown",
      "source": [
        "Cantidad de **valores no nulos**"
      ],
      "metadata": {
        "id": "SEEB2F6rTrzX"
      }
    },
    {
      "cell_type": "code",
      "source": [
        "print(categoricas.count())"
      ],
      "metadata": {
        "id": "nI0kEwaJTsNR",
        "colab": {
          "base_uri": "https://localhost:8080/"
        },
        "outputId": "20574cde-6402-412e-805e-9189dd38ed13"
      },
      "execution_count": null,
      "outputs": [
        {
          "output_type": "stream",
          "name": "stdout",
          "text": [
            "student_ulid                      980\n",
            "first_name                       1000\n",
            "last_name                         969\n",
            "gender                            982\n",
            "email                             882\n",
            "address                           792\n",
            "phone                             833\n",
            "major                             967\n",
            "mental_health_status              907\n",
            "extracurricular_participation     942\n",
            "scholarship                       950\n",
            "internet_access                   906\n",
            "dtype: int64\n"
          ]
        }
      ]
    },
    {
      "cell_type": "markdown",
      "source": [
        "Cantidad de **valores válidos sobre el total**"
      ],
      "metadata": {
        "id": "FiK5SL9ETvJJ"
      }
    },
    {
      "cell_type": "code",
      "source": [
        "# Total de filas incluyendo las NaN\n",
        "total = categoricas.shape[0]\n",
        "\n",
        "# Conteo de valores no nulos por columna\n",
        "valores_validos = categoricas.count()\n",
        "\n",
        "# Cociente\n",
        "cociente = valores_validos / total\n",
        "print(cociente)"
      ],
      "metadata": {
        "id": "Ua714mEWTvcT",
        "colab": {
          "base_uri": "https://localhost:8080/"
        },
        "outputId": "82589ca7-6a6f-4511-bfa8-8f7a81c7cb39"
      },
      "execution_count": null,
      "outputs": [
        {
          "output_type": "stream",
          "name": "stdout",
          "text": [
            "student_ulid                     0.980\n",
            "first_name                       1.000\n",
            "last_name                        0.969\n",
            "gender                           0.982\n",
            "email                            0.882\n",
            "address                          0.792\n",
            "phone                            0.833\n",
            "major                            0.967\n",
            "mental_health_status             0.907\n",
            "extracurricular_participation    0.942\n",
            "scholarship                      0.950\n",
            "internet_access                  0.906\n",
            "dtype: float64\n"
          ]
        }
      ]
    },
    {
      "cell_type": "markdown",
      "source": [
        "Cantidad de valores nulos"
      ],
      "metadata": {
        "id": "9UvvRLePTwrr"
      }
    },
    {
      "cell_type": "code",
      "source": [
        "print(categoricas.isnull().sum())"
      ],
      "metadata": {
        "id": "wulP2vSpTzIG",
        "colab": {
          "base_uri": "https://localhost:8080/"
        },
        "outputId": "036e509e-e296-4c80-cd77-1735400599c6"
      },
      "execution_count": null,
      "outputs": [
        {
          "output_type": "stream",
          "name": "stdout",
          "text": [
            "student_ulid                      20\n",
            "first_name                         0\n",
            "last_name                         31\n",
            "gender                            18\n",
            "email                            118\n",
            "address                          208\n",
            "phone                            167\n",
            "major                             33\n",
            "mental_health_status              93\n",
            "extracurricular_participation     58\n",
            "scholarship                       50\n",
            "internet_access                   94\n",
            "dtype: int64\n"
          ]
        }
      ]
    },
    {
      "cell_type": "markdown",
      "source": [
        "## Conclusiones preliminares\n",
        "\n",
        "- Se identificaron valores faltantes en varias columnas, entre ellas: `email`, `phone`, `mental_health_status` y `gpa`.\n",
        "- Se detectaron valores atípicos, como edades menores a 16 años, que podrían indicar errores en el registro.\n",
        "- La mayoría de las variables categóricas presentan categorías bien definidas, aunque en la variable `gender` se hallaron registros inconsistentes o mal tipificados.\n",
        "- La columna `major` contiene una amplia diversidad de carreras, con una distribución desigual entre ellas."
      ],
      "metadata": {
        "id": "TrznDO3QT0kQ"
      }
    }
  ]
}